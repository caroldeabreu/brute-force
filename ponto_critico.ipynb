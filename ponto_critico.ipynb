{
 "cells": [
  {
   "cell_type": "code",
   "execution_count": 11,
   "metadata": {},
   "outputs": [],
   "source": [
    "%matplotlib inline\n",
    "import matplotlib.pyplot as plt\n",
    "import pandas as pd\n",
    "import numpy as np\n",
    "import seaborn as sns\n",
    "from scipy.stats import linregress"
   ]
  },
  {
   "cell_type": "code",
   "execution_count": 349,
   "metadata": {
    "code_folding": []
   },
   "outputs": [],
   "source": [
    "# Estilo - seaborn\n",
    "\n",
    "sns.set_style(\"whitegrid\", {'xtick.bottom': True, 'ytick.left': True, \n",
    "                            'font.family': ['Liberation Sans'], 'axes.edgecolor': '0.7',\n",
    "                            'grid.color': '.8'})\n",
    "sns.set_context('paper')\n",
    "sns.set_palette('deep')\n",
    "\n",
    "c = sns.color_palette()\n",
    "\n",
    "#sns.palplot(c)\n",
    "\n",
    "def ticks_font(size = 11):\n",
    "    plt.xticks(fontsize = size)\n",
    "    plt.yticks(fontsize = size)\n",
    "\n",
    "def label_size(ax, size = 13):\n",
    "    ax.xaxis.label.set_size(size)\n",
    "    ax.yaxis.label.set_size(size)\n",
    "    \n",
    "def legend_format(ax, size = 11):\n",
    "    ax.legend(fontsize = size, frameon = True, markerscale = 1)\n",
    "\n",
    "def grid(ax):\n",
    "    ax.grid(color='gray', linestyle='-', linewidth=0.5, alpha=0.5)"
   ]
  },
  {
   "cell_type": "code",
   "execution_count": 295,
   "metadata": {},
   "outputs": [],
   "source": [
    "df_main5 = pd.read_csv('k_3/networks/results/data_100_5.csv', index_col = 0)\n",
    "df_main5[\"HBA/OP\"] = round(df_main5.HBA/df_main5.OP,3)\n",
    "df_main5[\"MBA/OP\"] = round(df_main5.MBA/df_main5.OP,3)\n",
    "df_main5[\"CI/OP\"] = round(df_main5.CI/df_main5.OP,3)"
   ]
  },
  {
   "cell_type": "code",
   "execution_count": 130,
   "metadata": {},
   "outputs": [],
   "source": [
    "df_main120 = pd.read_csv('k_3/networks/results/data_120_6.csv', index_col = 0)\n",
    "df_main080 = pd.read_csv('k_3/networks/results/data_080_4.csv', index_col = 0)\n"
   ]
  },
  {
   "cell_type": "code",
   "execution_count": 188,
   "metadata": {},
   "outputs": [],
   "source": [
    "df_main4 = pd.read_csv('k_4/results/data_100_5.csv', index_col = 0)\n",
    "df_main6 = pd.read_csv('k_6/results/data_100_5.csv', index_col = 0)\n"
   ]
  },
  {
   "cell_type": "markdown",
   "metadata": {},
   "source": [
    "# Fit duas retas"
   ]
  },
  {
   "cell_type": "markdown",
   "metadata": {},
   "source": [
    "Valores criticos: \n",
    "\n",
    "k3 = 0.73 (i = 65) - r1 = 0.92, r2 = 0.77\n",
    "\n",
    "k4 = 0.79 (i = 30) - r1 = 0.92, r2 = 0.65\n",
    "\n",
    "k6 = 0.81 (i = 42) - r1 = 0.94, r2 = 0.72"
   ]
  },
  {
   "cell_type": "code",
   "execution_count": 84,
   "metadata": {
    "code_folding": [
     1
    ]
   },
   "outputs": [],
   "source": [
    "# retorna ponto de cruzamento entre retas no intervalo quebrado em div\n",
    "def ponto_critico(df, x, y, div, inv = False):\n",
    "    \n",
    "    # limites no x das retas 1 e 2\n",
    "    x1 = df[x].iloc[div:]\n",
    "    x2 = df[x].iloc[:div]\n",
    "    \n",
    "    # medida para fazer fit\n",
    "    if inv:\n",
    "        y1 = 1/df[y].iloc[div:]\n",
    "        y2 = 1/df[y].iloc[:div]\n",
    "    else:  \n",
    "        y1 = df[y].iloc[div:]\n",
    "        y2 = df[y].iloc[:div]\n",
    "\n",
    "    # resultado regressão linear\n",
    "    # retorna [\"slope\", \"intercept\", \"r_value\", \"p_value\", \"std_err\"]\n",
    "    r1 = linregress(x1,y1)\n",
    "    r2 = linregress(x2,y2)\n",
    "\n",
    "    cross = (r2[1] - r1[1])/(r1[0] - r2[0])\n",
    "    #print(df['Q'].iloc[div], r1[0] * round(cross,3) + r1[1])\n",
    "    \n",
    "    return round(cross,3), r1, r2"
   ]
  },
  {
   "cell_type": "code",
   "execution_count": 15,
   "metadata": {
    "code_folding": [
     1
    ]
   },
   "outputs": [],
   "source": [
    "# retorna lista/\n",
    "def reta_intercept(x, reg):\n",
    "    # reg -> pandas dataframe\n",
    "    func1 = reg['slope'] *x + reg['intercept']\n",
    "    \n",
    "    return func1"
   ]
  },
  {
   "cell_type": "code",
   "execution_count": 328,
   "metadata": {},
   "outputs": [],
   "source": [
    "outliers = ['mu01/net11', 'mu01/net05', 'mu01/net13']\n",
    "\n",
    "df_main5 = df_main5.drop(outliers)"
   ]
  },
  {
   "cell_type": "code",
   "execution_count": 387,
   "metadata": {},
   "outputs": [],
   "source": [
    "regressao_1 = pd.DataFrame({}, columns=[\"slope\", \"intercept\", \"r_value\", \"p_value\", \"std_err\"])\n",
    "regressao_2 = pd.DataFrame({}, columns=[\"slope\", \"intercept\", \"r_value\", \"p_value\", \"std_err\"])  \n",
    "\n",
    "q_criticos = []\n",
    "\n",
    "df = df_main5\n",
    "\n",
    "# realizar as duas regressoes para diferentes separaçoes de Qs\n",
    "\n",
    "for i in range(1,len(df)):\n",
    "    \n",
    "    res = ponto_critico(df, 'Q', 'OP', i, inv = True)\n",
    "    q_criticos.append(res[0])\n",
    "    \n",
    "    regressao_1.loc[len(regressao_1), :] = list(res[1])\n",
    "    regressao_2.loc[len(regressao_2), :] = list(res[2])\n",
    "\n",
    "regressao_1[\"r_square\"] = regressao_1[\"r_value\"]**2\n",
    "regressao_2[\"r_square\"] = regressao_2[\"r_value\"]**2"
   ]
  },
  {
   "cell_type": "code",
   "execution_count": 373,
   "metadata": {},
   "outputs": [
    {
     "data": {
      "text/plain": [
       "<matplotlib.collections.PathCollection at 0x7f25785397b8>"
      ]
     },
     "execution_count": 373,
     "metadata": {},
     "output_type": "execute_result"
    },
    {
     "data": {
      "image/png": "[encoded data removed]",
      "text/plain": [
       "<Figure size 432x288 with 1 Axes>"
      ]
     },
     "metadata": {},
     "output_type": "display_data"
    }
   ],
   "source": [
    "# detectar ponto de inflexao\n",
    "\n",
    "plt.xlabel('index')\n",
    "plt.ylabel('r^2')\n",
    "\n",
    "y1 = list(regressao_1['r_square'])\n",
    "y1.reverse()\n",
    "\n",
    "plt.scatter(range(1,len(df)), y1)\n",
    "plt.scatter(range(1,len(df)), regressao_2['r_square'])"
   ]
  },
  {
   "cell_type": "code",
   "execution_count": 383,
   "metadata": {},
   "outputs": [
    {
     "data": {
      "text/plain": [
       "<matplotlib.collections.PathCollection at 0x7f25782d5940>"
      ]
     },
     "execution_count": 383,
     "metadata": {},
     "output_type": "execute_result"
    },
    {
     "data": {
      "image/png": "[encoded data removed]",
      "text/plain": [
       "<Figure size 432x288 with 1 Axes>"
      ]
     },
     "metadata": {},
     "output_type": "display_data"
    }
   ],
   "source": [
    "xdiv = 30\n",
    "\n",
    "plt.scatter(df['Q'][xdiv:], 1/df['OP'][xdiv:])\n",
    "plt.scatter(df['Q'][:xdiv], 1/df['OP'][:xdiv])"
   ]
  },
  {
   "cell_type": "code",
   "execution_count": 384,
   "metadata": {},
   "outputs": [
    {
     "data": {
      "text/plain": [
       "<matplotlib.collections.PathCollection at 0x7f25782ab9e8>"
      ]
     },
     "execution_count": 384,
     "metadata": {},
     "output_type": "execute_result"
    },
    {
     "data": {
      "image/png": "[encoded data removed]",
      "text/plain": [
       "<Figure size 432x288 with 1 Axes>"
      ]
     },
     "metadata": {},
     "output_type": "display_data"
    }
   ],
   "source": [
    "xdiv = 30\n",
    "\n",
    "x1 = np.linspace(0.8, 0.87, 20)\n",
    "x2 = np.linspace(0.6, 0.82, 20)\n",
    "\n",
    "plt.plot(x1, reta_intercept(x1, regressao_1.iloc[xdiv]), lw=2)\n",
    "plt.plot(x2, reta_intercept(x2, regressao_2.iloc[xdiv]), lw=2)\n",
    "plt.scatter(df['Q'], 1/df['OP'], alpha=0.3, color='grey')"
   ]
  },
  {
   "cell_type": "code",
   "execution_count": 385,
   "metadata": {
    "scrolled": true
   },
   "outputs": [
    {
     "data": {
      "text/plain": [
       "(0.791,\n",
       " LinregressResult(slope=42.19296071451523, intercept=-31.92964417202143, rvalue=0.92623970824657, pvalue=2.192071417678921e-13, stderr=3.2449205569835),\n",
       " LinregressResult(slope=2.556057458529863, intercept=-0.5822185172104717, rvalue=0.6588822673883277, pvalue=7.524827072813393e-05, stderr=0.5514977026533273))"
      ]
     },
     "execution_count": 385,
     "metadata": {},
     "output_type": "execute_result"
    }
   ],
   "source": [
    "ponto_critico(df, 'Q', 'OP', 30, inv = True)"
   ]
  },
  {
   "cell_type": "code",
   "execution_count": 345,
   "metadata": {},
   "outputs": [
    {
     "data": {
      "text/plain": [
       "1.5074812109504252"
      ]
     },
     "execution_count": 345,
     "metadata": {},
     "output_type": "execute_result"
    }
   ],
   "source": [
    "reta_intercept(0.727, regressao_2.iloc[xdiv])"
   ]
  },
  {
   "cell_type": "code",
   "execution_count": 394,
   "metadata": {},
   "outputs": [
    {
     "data": {
      "image/png": "[encoded data removed]",
      "text/plain": [
       "<Figure size 432x288 with 1 Axes>"
      ]
     },
     "metadata": {},
     "output_type": "display_data"
    }
   ],
   "source": [
    "# plot duas retas\n",
    "\n",
    "fig, ax = plt.subplots()\n",
    "\n",
    "ax.set_xlabel(\"Q\")\n",
    "ax.set_ylabel(r\"$1\\,/\\, S^*$\")\n",
    "\n",
    "#ax.scatter(0.724,1.46, c=\"black\", s=35,zorder=10)\n",
    "ax.scatter(0.727,1.51, c=\"black\", s=35,zorder=10)\n",
    "ax.scatter(df[\"Q\"], 1/df[\"OP\"], alpha = 0.3, s=40, color = c[-3])\n",
    "\n",
    "#ax.plot(x1,reta1, lw=2)\n",
    "#ax.plot(x2,reta2,c=c[3], lw=2)\n",
    "\n",
    "#set_other_plot_default_stuff(ax)\n",
    "\n",
    "xdiv = 65\n",
    "\n",
    "x1 = np.linspace(0.718, 0.86, 20)\n",
    "x2 = np.linspace(0.52, 0.75, 20)\n",
    "\n",
    "ax.plot(x1, reta_intercept(x1, regressao_1.iloc[xdiv]), lw=2,c=c[3])\n",
    "ax.plot(x2, reta_intercept(x2, regressao_2.iloc[xdiv]), lw=2)\n",
    "\n",
    "ticks_font()\n",
    "label_size(ax)\n",
    "grid(ax)\n",
    "\n",
    "#ax.get_legend().remove()\n",
    "\n",
    "#fig.savefig('figs_artigo/overleaf/ratio_AV_OP.png',dpi=300, bbox_inches='tight')"
   ]
  },
  {
   "cell_type": "markdown",
   "metadata": {},
   "source": [
    "## Tentativa de classificação"
   ]
  },
  {
   "cell_type": "code",
   "execution_count": 167,
   "metadata": {},
   "outputs": [],
   "source": [
    "from sklearn.cluster import KMeans\n",
    "from sklearn.cluster import SpectralClustering\n",
    "from matplotlib import cm\n",
    "from sklearn.linear_model import LogisticRegression"
   ]
  },
  {
   "cell_type": "code",
   "execution_count": 132,
   "metadata": {},
   "outputs": [],
   "source": [
    "df['1/op'] = 1/df['OP']"
   ]
  },
  {
   "cell_type": "code",
   "execution_count": 174,
   "metadata": {},
   "outputs": [],
   "source": [
    "x_y = np.array(df[['Q','AV/OP']])"
   ]
  },
  {
   "cell_type": "code",
   "execution_count": 175,
   "metadata": {},
   "outputs": [],
   "source": [
    "#classif = KMeans(n_clusters=2, init=np.array([[0.5,1],[0.8,4]]))\n",
    "classif = SpectralClustering(n_clusters=2).fit_predict(x_y)"
   ]
  },
  {
   "cell_type": "code",
   "execution_count": 177,
   "metadata": {},
   "outputs": [
    {
     "data": {
      "text/plain": [
       "<matplotlib.collections.PathCollection at 0x7f257c868208>"
      ]
     },
     "execution_count": 177,
     "metadata": {},
     "output_type": "execute_result"
    },
    {
     "data": {
      "image/png": "[encoded data removed]",
      "text/plain": [
       "<Figure size 432x288 with 1 Axes>"
      ]
     },
     "metadata": {
      "needs_background": "light"
     },
     "output_type": "display_data"
    }
   ],
   "source": [
    "plt.scatter(x_y[:,0], x_y[:,1], c=classif, cmap='viridis')"
   ]
  },
  {
   "cell_type": "code",
   "execution_count": null,
   "metadata": {},
   "outputs": [],
   "source": []
  }
 ],
 "metadata": {
  "kernelspec": {
   "display_name": "Python 3",
   "language": "python",
   "name": "python3"
  },
  "language_info": {
   "codemirror_mode": {
    "name": "ipython",
    "version": 3
   },
   "file_extension": ".py",
   "mimetype": "text/x-python",
   "name": "python",
   "nbconvert_exporter": "python",
   "pygments_lexer": "ipython3",
   "version": "3.7.3"
  },
  "varInspector": {
   "cols": {
    "lenName": 16,
    "lenType": 16,
    "lenVar": 40
   },
   "kernels_config": {
    "python": {
     "delete_cmd_postfix": "",
     "delete_cmd_prefix": "del ",
     "library": "var_list.py",
     "varRefreshCmd": "print(var_dic_list())"
    },
    "r": {
     "delete_cmd_postfix": ") ",
     "delete_cmd_prefix": "rm(",
     "library": "var_list.r",
     "varRefreshCmd": "cat(var_dic_list()) "
    }
   },
   "types_to_exclude": [
    "module",
    "function",
    "builtin_function_or_method",
    "instance",
    "_Feature"
   ],
   "window_display": false
  }
 },
 "nbformat": 4,
 "nbformat_minor": 2
}
