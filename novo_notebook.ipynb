{
 "cells": [
  {
   "cell_type": "markdown",
   "metadata": {},
   "source": [
    "### Criado 16/08 \n",
    "# Refazer plots e organizar infos"
   ]
  },
  {
   "cell_type": "code",
   "execution_count": 1,
   "metadata": {
    "code_folding": []
   },
   "outputs": [],
   "source": [
    "%matplotlib inline\n",
    "import matplotlib.pyplot as plt\n",
    "import pandas as pd\n",
    "import numpy as np\n",
    "import glob\n",
    "import seaborn as sns\n",
    "from matplotlib import rc\n",
    "import scipy.stats as stats\n",
    "\n",
    "#import pandas_profiling\n",
    "\n",
    "#import json\n",
    "#import scipy.special\n",
    "#import networkx as nx"
   ]
  },
  {
   "cell_type": "code",
   "execution_count": 2,
   "metadata": {},
   "outputs": [
    {
     "ename": "NameError",
     "evalue": "name 'profile' is not defined",
     "output_type": "error",
     "traceback": [
      "\u001b[0;31m---------------------------------------------------------------------------\u001b[0m",
      "\u001b[0;31mNameError\u001b[0m                                 Traceback (most recent call last)",
      "\u001b[0;32m<ipython-input-2-d47a1519796e>\u001b[0m in \u001b[0;36m<module>\u001b[0;34m\u001b[0m\n\u001b[0;32m----> 1\u001b[0;31m \u001b[0mprofile\u001b[0m\u001b[0;34m.\u001b[0m\u001b[0mto_file\u001b[0m\u001b[0;34m(\u001b[0m\u001b[0moutput_file\u001b[0m\u001b[0;34m=\u001b[0m\u001b[0;34m\"profile_output_df5.html\"\u001b[0m\u001b[0;34m)\u001b[0m\u001b[0;34m\u001b[0m\u001b[0;34m\u001b[0m\u001b[0m\n\u001b[0m",
      "\u001b[0;31mNameError\u001b[0m: name 'profile' is not defined"
     ]
    }
   ],
   "source": [
    "profile.to_file(output_file=\"profile_output_df5.html\")"
   ]
  },
  {
   "cell_type": "code",
   "execution_count": 2,
   "metadata": {
    "code_folding": [
     0
    ]
   },
   "outputs": [
    {
     "data": {
      "image/png": "[encoded data removed]",
      "text/plain": [
       "<Figure size 720x72 with 1 Axes>"
      ]
     },
     "metadata": {},
     "output_type": "display_data"
    }
   ],
   "source": [
    "# style\n",
    "sns.set_style(\"whitegrid\", {'xtick.bottom': True, 'ytick.left': True, \n",
    "                            'font.family': ['Liberation Sans'], 'axes.edgecolor': '0.7',\n",
    "                            'grid.color': '.8'})\n",
    "sns.set_context('paper')\n",
    "\n",
    "flatui = [\"#44bfaa\",\"#9b59b6\", \"#e74c3c\", \"#34495e\", \"#3498db\", \"#95a5a6\"]\n",
    "flatui_original = [\"#9b59b6\", \"#3498db\", \"#95a5a6\", \"#e74c3c\", \"#34495e\", \"#2ecc71\"]\n",
    "colors = [\"windows blue\",  \"faded green\" ,\"dusty purple\", \"faded red\", \"dark yellow\", \"greyish\"]\n",
    "\n",
    "sns.set_palette('deep')\n",
    "sns.palplot(sns.color_palette())\n",
    "\n",
    "c = sns.color_palette()\n"
   ]
  },
  {
   "cell_type": "code",
   "execution_count": 3,
   "metadata": {
    "code_folding": [
     0
    ]
   },
   "outputs": [],
   "source": [
    "#colors\n",
    "pink = sns.xkcd_rgb[\"rose red\"]\n",
    "green = sns.xkcd_rgb[\"jade green\"]\n",
    "red = sns.xkcd_rgb[\"deep red\"]\n",
    "blue = sns.xkcd_rgb[\"sapphire\"]\n",
    "grey = sns.xkcd_rgb[\"dark grey\"]\n",
    "lightgrey = sns.xkcd_rgb[\"light grey\"]\n",
    "navy = sns.xkcd_rgb[\"navy blue\"]\n",
    "newblue = sns.xkcd_rgb[\"light royal blue\"]\n",
    "rosered = sns.xkcd_rgb[\"rose red\"]\n",
    "bluegreen = sns.xkcd_rgb[\"blue green\"]\n",
    "\n",
    "pal = [pink,green,red,blue,grey,lightgrey,navy,newblue,rosered,bluegreen]"
   ]
  },
  {
   "cell_type": "code",
   "execution_count": 227,
   "metadata": {},
   "outputs": [
    {
     "data": {
      "image/png": "[encoded data removed]",
      "text/plain": [
       "<Figure size 720x72 with 1 Axes>"
      ]
     },
     "metadata": {},
     "output_type": "display_data"
    }
   ],
   "source": [
    "sns.palplot(pal)"
   ]
  },
  {
   "cell_type": "code",
   "execution_count": 5,
   "metadata": {
    "code_folding": [
     0
    ]
   },
   "outputs": [],
   "source": [
    "def set_other_plot_default_stuff(ax):\n",
    "    \n",
    "    ax.legend(fontsize = 11,frameon = True, markerscale = 1)\n",
    "    ax.grid(color='gray', linestyle='-', linewidth=0.5, alpha=0.5)\n",
    "    ax.set_axisbelow(True)\n",
    "\n",
    "    plt.xticks(fontsize = 11)\n",
    "    plt.yticks(fontsize = 11)\n",
    "    \n",
    "    ax.xaxis.label.set_size(13)\n",
    "    ax.yaxis.label.set_size(13)\n",
    "    "
   ]
  },
  {
   "cell_type": "code",
   "execution_count": 4,
   "metadata": {},
   "outputs": [],
   "source": [
    "def ticks_font(size = 11):\n",
    "    plt.xticks(fontsize = size)\n",
    "    plt.yticks(fontsize = size)\n",
    "\n",
    "def label_size(ax, size = 13):\n",
    "    ax.xaxis.label.set_size(size)\n",
    "    ax.yaxis.label.set_size(size)\n",
    "    \n",
    "def legend_format(ax, size = 11):\n",
    "    ax.legend(fontsize = size, frameon = True, markerscale = 1)\n",
    "\n",
    "def grid(ax):\n",
    "    ax.grid(color='gray', linestyle='-', linewidth=0.5, alpha=0.5)"
   ]
  },
  {
   "cell_type": "markdown",
   "metadata": {},
   "source": [
    "### To do:\n",
    "    - carregar dados de /results/\n",
    "    - arquivos com dados em bins?\n",
    "    - caregar multiplos n para 100\n",
    "    - acabar plot de 4 paineis\n",
    "    - histograma"
   ]
  },
  {
   "cell_type": "markdown",
   "metadata": {},
   "source": [
    "## Carregar dados\n",
    "\n",
    "DataFrame com dados das redes:\n"
   ]
  },
  {
   "cell_type": "markdown",
   "metadata": {},
   "source": [
    "    - Modularidade\n",
    "    - 3 heurísticos\n",
    "    - Ponto Ótimo\n",
    "    - Média de Ataques\n",
    "    - Razão média e ponto ótimo"
   ]
  },
  {
   "cell_type": "markdown",
   "metadata": {},
   "source": [
    "| Nome | O que é |< k >|N|n| Uso |\n",
    "| --- | --- | --- | --- | --- | --- |\n",
    "| df_main | Métricas | 3 | 100 | 5 | Fazer médias, AV/OP |\n",
    "| df_main_means, std | Médias Métricas / Std | 3 | 100 | 5 | Smoothing |\n",
    "| roll, std | Médias Métricas Suaves / Std | 3 | 100 | 5 | Medidas vs Q, Linhas p histograma |\n",
    "| df_0X | Métricas n | 3 | 100 | 3, 4, 5, 6 | Médias |\n",
    "| df_0X_means, std | Médias/Std Métricas | 3 | 100 | 3, 4, 5, 6 | Smmoothing |\n",
    "| roll_0X, std | Médias Métricas Suaves / Std | 3 | 100 | 3, 4, 5, 6 | Medidas vs Q, Linhas p histograma |\n",
    "| df_mainX | Métricas | 3, 4, 6 | 100 | 5 | Fazer médias, ?? |\n",
    "| df_main_meansX, std | Médias Métricas | 3, 4, 6 | 100 | 5 | Smoothing |\n",
    "| roll_X, std | Médias Métricas Suaves / Std | 3, 4, 6 | 100 | 5 | Medidas vs Q |\n",
    "| df_main_X, std | Métricas | 3 | 80, 120 | 4, 6 | Scaling |\n",
    "| df_main_means_X, std | Médias/Std | 3 | 80, 120 | 4, 6 | ?? |\n",
    "| bf_df | LCC | 3 | 100 | 5 | Histogramas, prob cumulativa |\n"
   ]
  },
  {
   "cell_type": "markdown",
   "metadata": {},
   "source": [
    "#### N = 100"
   ]
  },
  {
   "cell_type": "code",
   "execution_count": 4,
   "metadata": {
    "code_folding": [
     0
    ]
   },
   "outputs": [],
   "source": [
    "# k = 3 medidas\n",
    "df_main = pd.read_csv('k_3/networks/results/data_100_5.csv', index_col = 0)\n",
    "df_main_means = pd.DataFrame({})\n",
    "df_main_std = pd.DataFrame({})\n",
    "df_main[\"HBA/OP\"] = round(df_main.HBA/df_main.OP,3)\n",
    "df_main[\"MBA/OP\"] = round(df_main.MBA/df_main.OP,3)\n",
    "df_main[\"CI/OP\"] = round(df_main.CI/df_main.OP,3)"
   ]
  },
  {
   "cell_type": "code",
   "execution_count": 112,
   "metadata": {
    "code_folding": [
     0
    ]
   },
   "outputs": [],
   "source": [
    "# n = 3, 4, 5, 6 \n",
    "# k_3/networks\n",
    "df_03 = pd.read_csv('k_3/networks/results/data_100_3.csv', index_col = 0)\n",
    "df_03_means = pd.DataFrame({})\n",
    "df_03_std = pd.DataFrame({})\n",
    "df_04 = pd.read_csv('k_3/networks/results/data_100_4.csv', index_col = 0)\n",
    "df_04_means = pd.DataFrame({})\n",
    "df_04_std = pd.DataFrame({})\n",
    "df_05 = pd.read_csv('k_3/networks/results/data_100_5.csv', index_col = 0)\n",
    "df_05_means = pd.DataFrame({})\n",
    "df_05_std = pd.DataFrame({})\n",
    "df_06 = pd.read_csv('k_3/networks/results/data_100_6.csv', index_col = 0)\n",
    "df_06_means = pd.DataFrame({})\n",
    "df_06_std = pd.DataFrame({})"
   ]
  },
  {
   "cell_type": "markdown",
   "metadata": {},
   "source": [
    "#### N = 120"
   ]
  },
  {
   "cell_type": "code",
   "execution_count": 10,
   "metadata": {
    "code_folding": [
     0
    ]
   },
   "outputs": [],
   "source": [
    "# 120\n",
    "df_main_120 = pd.read_csv('k_3/networks/results/data_120_6.csv', index_col = 0)\n",
    "df_main_means_120 = pd.DataFrame({})\n",
    "df_main_std_120 = pd.DataFrame({})"
   ]
  },
  {
   "cell_type": "markdown",
   "metadata": {},
   "source": [
    "#### N = 80"
   ]
  },
  {
   "cell_type": "code",
   "execution_count": 11,
   "metadata": {
    "code_folding": [
     0
    ]
   },
   "outputs": [],
   "source": [
    "# 80\n",
    "df_main_080 = pd.read_csv('k_3/networks/results/data_080_4.csv', index_col = 0)\n",
    "df_main_means_080 = pd.DataFrame({})\n",
    "df_main_std_080 = pd.DataFrame({})"
   ]
  },
  {
   "cell_type": "markdown",
   "metadata": {},
   "source": [
    "### < k >"
   ]
  },
  {
   "cell_type": "code",
   "execution_count": 6,
   "metadata": {
    "code_folding": [
     0
    ]
   },
   "outputs": [],
   "source": [
    "# k = 4 e 6\n",
    "\n",
    "df_main4 = pd.read_csv('k_4/results/data_100_5.csv', index_col = 0)\n",
    "df_main_means4 = pd.DataFrame({})\n",
    "df_main_std4 = pd.DataFrame({})\n",
    "\n",
    "df_main4[\"HBA/OP\"] = df_main4.HBA/df_main4.OP\n",
    "df_main4[\"MBA/OP\"] = df_main4.MBA/df_main4.OP\n",
    "df_main4[\"CI/OP\"] = df_main4.CI/df_main4.OP\n",
    "\n",
    "df_main6 = pd.read_csv('k_6/results/data_100_5.csv', index_col = 0)\n",
    "df_main_means6 = pd.DataFrame({})\n",
    "df_main_std6 = pd.DataFrame({})\n",
    "\n",
    "df_main6[\"HBA/OP\"] = df_main6.HBA/df_main6.OP\n",
    "df_main6[\"MBA/OP\"] = df_main6.MBA/df_main6.OP\n",
    "df_main6[\"CI/OP\"] = df_main6.CI/df_main6.OP\n"
   ]
  },
  {
   "cell_type": "markdown",
   "metadata": {},
   "source": [
    "## Bins"
   ]
  },
  {
   "cell_type": "markdown",
   "metadata": {},
   "source": [
    "#### Forma 1"
   ]
  },
  {
   "cell_type": "code",
   "execution_count": null,
   "metadata": {
    "code_folding": []
   },
   "outputs": [],
   "source": [
    "# K = 3 BINS\n",
    "\n",
    "width = 0.02\n",
    "\n",
    "bin_edges = np.arange(0.56, 0.87, width)[1:]\n",
    "bin_centers = bin_edges - width/2\n",
    "\n",
    "df_05_std['Q'] = bin_centers\n",
    "df_05_means['Q'][2:] = bin_centers\n",
    "\n",
    "\n",
    "for col in df_05.iloc[:,:]:\n",
    "    binned, _ , _ = stats.binned_statistic(df_05[\"Q\"], df_05[col], \n",
    "                                                            bins = np.arange(0.56, 0.87, width))\n",
    "    binned_std, _ , _ = stats.binned_statistic(df_05[\"Q\"], df_05[col], \n",
    "                                                            bins = np.arange(0.56, 0.87, width), statistic=\"std\")\n",
    "    df_05_means[col] = binned.round(3)\n",
    "    df_05_std[col] = binned_std.round(3)\n",
    "    "
   ]
  },
  {
   "cell_type": "code",
   "execution_count": 120,
   "metadata": {
    "code_folding": [
     0
    ]
   },
   "outputs": [
    {
     "name": "stderr",
     "output_type": "stream",
     "text": [
      "/home/usuario/anaconda2/lib/python3.7/site-packages/scipy/stats/_binned_statistic.py:563: RuntimeWarning: invalid value encountered in sqrt\n",
      "  (flatsum[a] / flatcount[a]) ** 2)\n"
     ]
    }
   ],
   "source": [
    "# k = 4 e 6 BINS\n",
    "\n",
    "width = 0.02\n",
    "\n",
    "bin_edges = np.arange(0.56, 0.87, width)[1:]\n",
    "bin_centers = bin_edges - width/2\n",
    "\n",
    "df_main_means6['Q'] = bin_centers\n",
    "df_main_std6['Q'] = bin_centers\n",
    "\n",
    "for col in df_main6.iloc[:,:]:\n",
    "    binned, _ , _ = stats.binned_statistic(df_main6[\"Q\"], df_main6[col], \n",
    "                                                            bins = np.arange(0.56, 0.87, width))\n",
    "    binned_std, _ , _ = stats.binned_statistic(df_main6[\"Q\"], df_main6[col], \n",
    "                                                            bins = np.arange(0.56, 0.87, width), statistic=\"std\")\n",
    "    df_main_means6[col] = binned.round(3)\n",
    "    df_main_std6[col] = binned_std.round(3)\n",
    "    \n",
    "# df_main_means6['Q'] = bin_centers\n",
    "# df_main_std6['Q'] = bin_centers\n",
    "\n",
    "# for col in df_05.iloc[:,:]:\n",
    "#     binned, _ , _ = stats.binned_statistic(df_main6[\"Q\"], df_main6[col], \n",
    "#                                                             bins = np.arange(0.56, 0.87, width))\n",
    "#     binned_std, _ , _ = stats.binned_statistic(df_main6[\"Q\"], df_main6[col], \n",
    "#                                                             bins = np.arange(0.56, 0.87, width), statistic=\"std\")\n",
    "#     df_main_means6[col] = binned.round(3)\n",
    "#     df_main_std6[col] = binned_std.round(3)"
   ]
  },
  {
   "cell_type": "markdown",
   "metadata": {},
   "source": [
    "#### Forma 2"
   ]
  },
  {
   "cell_type": "markdown",
   "metadata": {},
   "source": [
    "Medias n = 3, 4, 5, 6"
   ]
  },
  {
   "cell_type": "code",
   "execution_count": 111,
   "metadata": {
    "code_folding": [
     0
    ]
   },
   "outputs": [
    {
     "ename": "NameError",
     "evalue": "name 'width' is not defined",
     "output_type": "error",
     "traceback": [
      "\u001b[0;31m---------------------------------------------------------------------------\u001b[0m",
      "\u001b[0;31mNameError\u001b[0m                                 Traceback (most recent call last)",
      "\u001b[0;32m<ipython-input-111-af9c0bf232ef>\u001b[0m in \u001b[0;36m<module>\u001b[0;34m\u001b[0m\n\u001b[1;32m      2\u001b[0m \u001b[0;34m\u001b[0m\u001b[0m\n\u001b[1;32m      3\u001b[0m \u001b[0mintervals\u001b[0m \u001b[0;34m=\u001b[0m \u001b[0mpd\u001b[0m\u001b[0;34m.\u001b[0m\u001b[0minterval_range\u001b[0m\u001b[0;34m(\u001b[0m\u001b[0;36m0.52\u001b[0m\u001b[0;34m,\u001b[0m\u001b[0;36m0.90\u001b[0m\u001b[0;34m,\u001b[0m\u001b[0mfreq\u001b[0m\u001b[0;34m=\u001b[0m\u001b[0;36m0.02\u001b[0m\u001b[0;34m)\u001b[0m\u001b[0;34m\u001b[0m\u001b[0;34m\u001b[0m\u001b[0m\n\u001b[0;32m----> 4\u001b[0;31m \u001b[0mbin_edges\u001b[0m \u001b[0;34m=\u001b[0m \u001b[0mnp\u001b[0m\u001b[0;34m.\u001b[0m\u001b[0marange\u001b[0m\u001b[0;34m(\u001b[0m\u001b[0;36m0.50\u001b[0m\u001b[0;34m,\u001b[0m \u001b[0;36m0.87\u001b[0m\u001b[0;34m,\u001b[0m \u001b[0mwidth\u001b[0m\u001b[0;34m)\u001b[0m\u001b[0;34m[\u001b[0m\u001b[0;36m1\u001b[0m\u001b[0;34m:\u001b[0m\u001b[0;34m]\u001b[0m\u001b[0;34m\u001b[0m\u001b[0;34m\u001b[0m\u001b[0m\n\u001b[0m\u001b[1;32m      5\u001b[0m \u001b[0mbin_centers\u001b[0m \u001b[0;34m=\u001b[0m \u001b[0mbin_edges\u001b[0m \u001b[0;34m-\u001b[0m \u001b[0mwidth\u001b[0m\u001b[0;34m/\u001b[0m\u001b[0;36m2\u001b[0m\u001b[0;34m\u001b[0m\u001b[0;34m\u001b[0m\u001b[0m\n\u001b[1;32m      6\u001b[0m \u001b[0;34m\u001b[0m\u001b[0m\n",
      "\u001b[0;31mNameError\u001b[0m: name 'width' is not defined"
     ]
    }
   ],
   "source": [
    "# n \n",
    "\n",
    "intervals = pd.interval_range(0.52,0.90,freq=0.02)\n",
    "bin_edges = np.arange(0.50, 0.87, width)[1:]\n",
    "bin_centers = bin_edges - width/2\n",
    "\n",
    "df_03_means = df_03.groupby(pd.cut(df_03.Q, bin_edges), as_index=False).mean().round(3).dropna()\n",
    "df_03_std = df_03.groupby(pd.cut(df_03.Q, bin_edges), as_index=False).std().round(3).dropna()\n",
    "#df_03_means[\"Q\"] = bin_centers[1:]\n",
    "\n",
    "df_04_means = df_04.groupby(pd.cut(df_04.Q, bin_edges), as_index=False).mean().round(3).dropna()\n",
    "df_04_std = df_04.groupby(pd.cut(df_04.Q, bin_edges), as_index=False).std().round(3).dropna()\n",
    "df_04_means[\"Q\"] = bin_centers[1:]\n",
    "\n",
    "df_05_means = df_05.groupby(pd.cut(df_05.Q, bin_edges), as_index=False).mean().round(3).dropna()\n",
    "df_05_std = df_05.groupby(pd.cut(df_05.Q, bin_edges), as_index=False).std().round(3).dropna()\n",
    "#df_05_means[\"Q\"] = bin_centers[1:]\n",
    "\n",
    "df_06_means = df_06.groupby(pd.cut(df_06.Q, bin_edges), as_index=False).mean().round(3).dropna()\n",
    "df_06_std = df_06.groupby(pd.cut(df_06.Q, bin_edges), as_index=False).std().round(3).dropna()\n",
    "df_06_means[\"Q\"] = bin_centers[1:][9:]"
   ]
  },
  {
   "cell_type": "markdown",
   "metadata": {},
   "source": [
    "#### Smoothing"
   ]
  },
  {
   "cell_type": "code",
   "execution_count": 48,
   "metadata": {
    "code_folding": [
     0
    ]
   },
   "outputs": [],
   "source": [
    "# k = 3 rolling \n",
    "\n",
    "roll = df_05_means.rolling(window=2).mean().sort_values(by='Q')\n",
    "roll.dropna(inplace = True)\n",
    "rollstd = df_05_std.rolling(window=2).mean().sort_values(by='Q')\n",
    "rollstd.dropna(inplace = True)"
   ]
  },
  {
   "cell_type": "code",
   "execution_count": 123,
   "metadata": {
    "code_folding": [
     0
    ]
   },
   "outputs": [],
   "source": [
    "# k = 4 e 6 rolling\n",
    "\n",
    "roll4 = df_main_means4.rolling(window=2).mean().sort_values(by='Q')\n",
    "roll4.dropna(inplace = True)\n",
    "rollstd4 = df_main_std4.rolling(window=2).mean().sort_values(by='Q')\n",
    "rollstd4 = rollstd4.loc[roll4.index]\n",
    "\n",
    "roll6 = df_main_means6.rolling(window=2).mean().sort_values(by='Q')\n",
    "roll6.dropna(inplace = True)\n",
    "rollstd6 = df_main_std6.rolling(window=2).mean().sort_values(by='Q')\n",
    "rollstd6 = rollstd6.loc[roll6.index]"
   ]
  },
  {
   "cell_type": "code",
   "execution_count": 125,
   "metadata": {},
   "outputs": [
    {
     "data": {
      "text/html": [
       "<div>\n",
       "<style scoped>\n",
       "    .dataframe tbody tr th:only-of-type {\n",
       "        vertical-align: middle;\n",
       "    }\n",
       "\n",
       "    .dataframe tbody tr th {\n",
       "        vertical-align: top;\n",
       "    }\n",
       "\n",
       "    .dataframe thead th {\n",
       "        text-align: right;\n",
       "    }\n",
       "</style>\n",
       "<table border=\"1\" class=\"dataframe\">\n",
       "  <thead>\n",
       "    <tr style=\"text-align: right;\">\n",
       "      <th></th>\n",
       "      <th>Q</th>\n",
       "      <th>OP</th>\n",
       "      <th>Average</th>\n",
       "      <th>AV/OP</th>\n",
       "      <th>MBA</th>\n",
       "      <th>HBA</th>\n",
       "      <th>CI</th>\n",
       "      <th>HBA/OP</th>\n",
       "      <th>MBA/OP</th>\n",
       "      <th>CI/OP</th>\n",
       "    </tr>\n",
       "  </thead>\n",
       "  <tbody>\n",
       "    <tr>\n",
       "      <th>4</th>\n",
       "      <td>0.6405</td>\n",
       "      <td>0.9070</td>\n",
       "      <td>0.9475</td>\n",
       "      <td>1.0445</td>\n",
       "      <td>0.9500</td>\n",
       "      <td>0.9415</td>\n",
       "      <td>0.9500</td>\n",
       "      <td>1.0385</td>\n",
       "      <td>1.0480</td>\n",
       "      <td>1.0480</td>\n",
       "    </tr>\n",
       "    <tr>\n",
       "      <th>5</th>\n",
       "      <td>0.6535</td>\n",
       "      <td>0.9035</td>\n",
       "      <td>0.9455</td>\n",
       "      <td>1.0465</td>\n",
       "      <td>0.9500</td>\n",
       "      <td>0.9500</td>\n",
       "      <td>0.9500</td>\n",
       "      <td>1.0520</td>\n",
       "      <td>1.0520</td>\n",
       "      <td>1.0520</td>\n",
       "    </tr>\n",
       "    <tr>\n",
       "      <th>6</th>\n",
       "      <td>0.6755</td>\n",
       "      <td>0.9010</td>\n",
       "      <td>0.9415</td>\n",
       "      <td>1.0450</td>\n",
       "      <td>0.9500</td>\n",
       "      <td>0.9500</td>\n",
       "      <td>0.9500</td>\n",
       "      <td>1.0545</td>\n",
       "      <td>1.0545</td>\n",
       "      <td>1.0545</td>\n",
       "    </tr>\n",
       "    <tr>\n",
       "      <th>7</th>\n",
       "      <td>0.7000</td>\n",
       "      <td>0.8915</td>\n",
       "      <td>0.9360</td>\n",
       "      <td>1.0500</td>\n",
       "      <td>0.9500</td>\n",
       "      <td>0.9500</td>\n",
       "      <td>0.9500</td>\n",
       "      <td>1.0655</td>\n",
       "      <td>1.0655</td>\n",
       "      <td>1.0655</td>\n",
       "    </tr>\n",
       "    <tr>\n",
       "      <th>8</th>\n",
       "      <td>0.7210</td>\n",
       "      <td>0.8815</td>\n",
       "      <td>0.9410</td>\n",
       "      <td>1.0680</td>\n",
       "      <td>0.9500</td>\n",
       "      <td>0.9450</td>\n",
       "      <td>0.9500</td>\n",
       "      <td>1.0720</td>\n",
       "      <td>1.0780</td>\n",
       "      <td>1.0780</td>\n",
       "    </tr>\n",
       "    <tr>\n",
       "      <th>9</th>\n",
       "      <td>0.7410</td>\n",
       "      <td>0.8780</td>\n",
       "      <td>0.9500</td>\n",
       "      <td>1.0825</td>\n",
       "      <td>0.9500</td>\n",
       "      <td>0.9450</td>\n",
       "      <td>0.9500</td>\n",
       "      <td>1.0765</td>\n",
       "      <td>1.0825</td>\n",
       "      <td>1.0825</td>\n",
       "    </tr>\n",
       "    <tr>\n",
       "      <th>10</th>\n",
       "      <td>0.7585</td>\n",
       "      <td>0.8550</td>\n",
       "      <td>0.9495</td>\n",
       "      <td>1.1115</td>\n",
       "      <td>0.9440</td>\n",
       "      <td>0.9440</td>\n",
       "      <td>0.9500</td>\n",
       "      <td>1.1050</td>\n",
       "      <td>1.1050</td>\n",
       "      <td>1.1120</td>\n",
       "    </tr>\n",
       "    <tr>\n",
       "      <th>11</th>\n",
       "      <td>0.7775</td>\n",
       "      <td>0.8090</td>\n",
       "      <td>0.9480</td>\n",
       "      <td>1.1750</td>\n",
       "      <td>0.9280</td>\n",
       "      <td>0.9250</td>\n",
       "      <td>0.9500</td>\n",
       "      <td>1.1455</td>\n",
       "      <td>1.1495</td>\n",
       "      <td>1.1775</td>\n",
       "    </tr>\n",
       "    <tr>\n",
       "      <th>12</th>\n",
       "      <td>0.8000</td>\n",
       "      <td>0.7050</td>\n",
       "      <td>0.9410</td>\n",
       "      <td>1.3795</td>\n",
       "      <td>0.9070</td>\n",
       "      <td>0.8150</td>\n",
       "      <td>0.9500</td>\n",
       "      <td>1.1650</td>\n",
       "      <td>1.3250</td>\n",
       "      <td>1.3945</td>\n",
       "    </tr>\n",
       "    <tr>\n",
       "      <th>13</th>\n",
       "      <td>0.8235</td>\n",
       "      <td>0.5175</td>\n",
       "      <td>0.9165</td>\n",
       "      <td>1.9795</td>\n",
       "      <td>0.7505</td>\n",
       "      <td>0.6215</td>\n",
       "      <td>0.8925</td>\n",
       "      <td>1.2395</td>\n",
       "      <td>1.4780</td>\n",
       "      <td>1.8415</td>\n",
       "    </tr>\n",
       "    <tr>\n",
       "      <th>14</th>\n",
       "      <td>0.8420</td>\n",
       "      <td>0.3265</td>\n",
       "      <td>0.8745</td>\n",
       "      <td>2.9670</td>\n",
       "      <td>0.4875</td>\n",
       "      <td>0.3995</td>\n",
       "      <td>0.7025</td>\n",
       "      <td>1.2200</td>\n",
       "      <td>1.4655</td>\n",
       "      <td>2.1920</td>\n",
       "    </tr>\n",
       "  </tbody>\n",
       "</table>\n",
       "</div>"
      ],
      "text/plain": [
       "         Q      OP  Average   AV/OP     MBA     HBA      CI  HBA/OP  MBA/OP  \\\n",
       "4   0.6405  0.9070   0.9475  1.0445  0.9500  0.9415  0.9500  1.0385  1.0480   \n",
       "5   0.6535  0.9035   0.9455  1.0465  0.9500  0.9500  0.9500  1.0520  1.0520   \n",
       "6   0.6755  0.9010   0.9415  1.0450  0.9500  0.9500  0.9500  1.0545  1.0545   \n",
       "7   0.7000  0.8915   0.9360  1.0500  0.9500  0.9500  0.9500  1.0655  1.0655   \n",
       "8   0.7210  0.8815   0.9410  1.0680  0.9500  0.9450  0.9500  1.0720  1.0780   \n",
       "9   0.7410  0.8780   0.9500  1.0825  0.9500  0.9450  0.9500  1.0765  1.0825   \n",
       "10  0.7585  0.8550   0.9495  1.1115  0.9440  0.9440  0.9500  1.1050  1.1050   \n",
       "11  0.7775  0.8090   0.9480  1.1750  0.9280  0.9250  0.9500  1.1455  1.1495   \n",
       "12  0.8000  0.7050   0.9410  1.3795  0.9070  0.8150  0.9500  1.1650  1.3250   \n",
       "13  0.8235  0.5175   0.9165  1.9795  0.7505  0.6215  0.8925  1.2395  1.4780   \n",
       "14  0.8420  0.3265   0.8745  2.9670  0.4875  0.3995  0.7025  1.2200  1.4655   \n",
       "\n",
       "     CI/OP  \n",
       "4   1.0480  \n",
       "5   1.0520  \n",
       "6   1.0545  \n",
       "7   1.0655  \n",
       "8   1.0780  \n",
       "9   1.0825  \n",
       "10  1.1120  \n",
       "11  1.1775  \n",
       "12  1.3945  \n",
       "13  1.8415  \n",
       "14  2.1920  "
      ]
     },
     "execution_count": 125,
     "metadata": {},
     "output_type": "execute_result"
    }
   ],
   "source": [
    "roll6"
   ]
  },
  {
   "cell_type": "markdown",
   "metadata": {},
   "source": [
    "Medias n = 3, 4, 5, 6"
   ]
  },
  {
   "cell_type": "code",
   "execution_count": 99,
   "metadata": {
    "code_folding": [
     0
    ]
   },
   "outputs": [],
   "source": [
    "# n smoothing\n",
    "\n",
    "roll03 = df_03_means.rolling(window=2).mean().sort_values(by='Q').dropna()\n",
    "rollstd03 = df_03_means.rolling(window=2).std().sort_values(by='Q').dropna()\n",
    "\n",
    "roll04 = df_04_means.rolling(window=2).mean().sort_values(by='Q').dropna()\n",
    "rollstd04 = df_04_means.rolling(window=2).std().sort_values(by='Q').dropna()\n",
    "\n",
    "roll05 = df_05_means.rolling(window=2).mean().sort_values(by='Q').dropna()\n",
    "rollstd05 = df_05_means.rolling(window=2).std().sort_values(by='Q').dropna()\n",
    "\n",
    "# roll06 = df_06_means.rolling(window=2).mean().sort_values(by='Q').dropna()\n",
    "# rollstd06 = df_06_means.rolling(window=2).std().sort_values(by='Q').dropna()"
   ]
  },
  {
   "cell_type": "markdown",
   "metadata": {},
   "source": [
    "#### Brute Force LCC sizes\n",
    "    - For histogram"
   ]
  },
  {
   "cell_type": "code",
   "execution_count": 18,
   "metadata": {
    "code_folding": [
     0
    ]
   },
   "outputs": [],
   "source": [
    "# todos resultados bruteforce k = 3\n",
    "\n",
    "files_bruteforce_results = sorted(glob.glob(\"k_3/networks/100/mu*/net*/gcn5*\"))\n",
    "\n",
    "bf_df = pd.DataFrame({}, index = range(1,96))\n",
    "\n",
    "cols = sorted(df_main.index)\n",
    "\n",
    "for i,file in enumerate(files_bruteforce_results):\n",
    "    x = np.loadtxt(file, max_rows=95,dtype=int)\n",
    "    bf_df[cols[i]] = x\n",
    "    \n",
    "x=((bf_df.sum(axis=0))-75287520.0)\n",
    "x = x[x!=0].index\n",
    "#x = x[x==1.0]\n",
    "bf_df = bf_df.transpose()\n",
    "bf_df[95].loc[x] = bf_df[95].loc[x] - 1\n",
    "bf_df = bf_df.transpose()\n",
    "    \n",
    "#bf_df=bf_df.transpose()"
   ]
  },
  {
   "cell_type": "code",
   "execution_count": 25,
   "metadata": {
    "scrolled": true
   },
   "outputs": [
    {
     "name": "stderr",
     "output_type": "stream",
     "text": [
      "/home/usuario/anaconda2/lib/python3.7/site-packages/ipykernel_launcher.py:1: UserWarning: Boolean Series key will be reindexed to match DataFrame index.\n",
      "  \"\"\"Entry point for launching an IPython kernel.\n"
     ]
    }
   ],
   "source": [
    "cols = df_main[df_main.Q>0.81][df_main.Q<0.83].index"
   ]
  },
  {
   "cell_type": "code",
   "execution_count": 158,
   "metadata": {},
   "outputs": [],
   "source": [
    "def percents(df):\n",
    "    delta = [0.25,0.50,0.75]\n",
    "    res = []\n",
    "    \n",
    "    for value in delta:\n",
    "        res.append(df.quantile(delta))\n",
    "    \n",
    "    "
   ]
  },
  {
   "cell_type": "code",
   "execution_count": 29,
   "metadata": {},
   "outputs": [
    {
     "name": "stderr",
     "output_type": "stream",
     "text": [
      "/home/usuario/anaconda2/lib/python3.7/site-packages/ipykernel_launcher.py:2: FutureWarning: Series.nonzero() is deprecated and will be removed in a future version.Use Series.to_numpy().nonzero() instead\n",
      "  \n"
     ]
    },
    {
     "data": {
      "text/plain": [
       "(array([18, 19, 20, 21, 22, 23, 24, 25, 26, 27, 28, 29, 30, 31, 32, 33, 34,\n",
       "        35, 36, 37, 38, 39, 40, 41, 42, 43, 44, 45, 46, 47, 48, 49, 50, 51,\n",
       "        52, 53, 54, 55, 56, 57, 58, 59, 60, 61, 62, 63, 64, 65, 66, 67, 68,\n",
       "        69, 70, 71, 72, 73, 74, 75, 76, 77, 78, 79, 80, 81, 82, 83, 84, 85,\n",
       "        86, 87, 88, 89, 90, 91, 92, 93, 94]),)"
      ]
     },
     "execution_count": 29,
     "metadata": {},
     "output_type": "execute_result"
    }
   ],
   "source": [
    "cumulative = bf_df.iloc[:,0].cumsum(axis=0)\n",
    "max(cumulative.nonzero())-min(cumulative.nonzero())\n"
   ]
  },
  {
   "cell_type": "code",
   "execution_count": 171,
   "metadata": {},
   "outputs": [],
   "source": [
    "q1 = sum(bf082.iloc[:quart])\n",
    "q2 = sum(bf082.iloc[quart:quart*2])\n",
    "q3 = sum(bf082.iloc[quart*2: quart*3])\n",
    "q4 = sum(bf082.iloc[quart*3:])"
   ]
  },
  {
   "cell_type": "code",
   "execution_count": 191,
   "metadata": {},
   "outputs": [
    {
     "data": {
      "text/plain": [
       "29.224654211767607"
      ]
     },
     "execution_count": 191,
     "metadata": {},
     "output_type": "execute_result"
    }
   ],
   "source": [
    "100*(q1+q2+q3)/qs"
   ]
  },
  {
   "cell_type": "code",
   "execution_count": 141,
   "metadata": {},
   "outputs": [],
   "source": [
    "bf082 = bf_df[cols].sum(axis=1)[16:]"
   ]
  },
  {
   "cell_type": "code",
   "execution_count": 142,
   "metadata": {},
   "outputs": [],
   "source": [
    "bf082 = (bf082/(len(cols)))"
   ]
  },
  {
   "cell_type": "code",
   "execution_count": 33,
   "metadata": {},
   "outputs": [],
   "source": [
    "files_bruteforce_results = sorted(glob.glob(\"k_6/mu*/net*/gcn5*\"))\n",
    "\n",
    "bf_df = pd.DataFrame({}, index = range(1,96))\n",
    "\n",
    "cols = sorted(df_main.index)\n",
    "\n",
    "for i,file in enumerate(files_bruteforce_results):\n",
    "    x = np.loadtxt(file, max_rows=95,dtype=int)\n",
    "    bf_df[cols[i]] = x"
   ]
  },
  {
   "cell_type": "markdown",
   "metadata": {},
   "source": [
    "## Figuras"
   ]
  },
  {
   "cell_type": "markdown",
   "metadata": {},
   "source": [
    "#### Plot principal"
   ]
  },
  {
   "cell_type": "code",
   "execution_count": 95,
   "metadata": {
    "code_folding": [
     0
    ],
    "scrolled": false
   },
   "outputs": [
    {
     "data": {
      "image/png": "[encoded data removed]",
      "text/plain": [
       "<Figure size 432x288 with 1 Axes>"
      ]
     },
     "metadata": {},
     "output_type": "display_data"
    }
   ],
   "source": [
    "# k = 3 rolling vs Q\n",
    "\n",
    "df = mean_roll\n",
    "\n",
    "fig, ax = plt.subplots()\n",
    "\n",
    "markers = ['o', '^', 's', 'D', 'v']\n",
    "\n",
    "for i, col in enumerate(df[['OP','Average', 'MBA', 'HBA', 'CI']]):\n",
    "    ax.plot(df['Q'], df[col],lw = 1, label='_nolegend_')\n",
    "    if col == 'Average':\n",
    "        ax.scatter(df['Q'], df[col], s=30, marker = markers[i], label = r'$\\langle S \\rangle$')\n",
    "    else:\n",
    "        ax.scatter(df['Q'], df[col], s=30, marker = markers[i])\n",
    "\n",
    "ax.set_ylim([0.1,1.0])\n",
    "ax.set_xlabel(\"Q\")\n",
    "ax.set_ylabel(\"S\")\n",
    "set_other_plot_default_stuff(ax)\n",
    "#ax.legend(loc = 5, framealpha=0.5)\n",
    "#ax.grid(False)\n",
    "#fig.savefig('figs_dissertacao/main_plot_k6_n4.png', dpi = 300, bbox_inches='tight')"
   ]
  },
  {
   "cell_type": "markdown",
   "metadata": {},
   "source": [
    "#### Cinco juntos: OP, Av, MBA, HBA, CI com desvio padrão"
   ]
  },
  {
   "cell_type": "code",
   "execution_count": 93,
   "metadata": {
    "code_folding": [
     0
    ],
    "collapsed": true
   },
   "outputs": [
    {
     "name": "stderr",
     "output_type": "stream",
     "text": [
      "/home/usuario/anaconda2/lib/python3.7/site-packages/matplotlib/tight_layout.py:176: UserWarning: Tight layout not applied. The left and right margins cannot be made large enough to accommodate all axes decorations. \n",
      "  warnings.warn('Tight layout not applied. The left and right margins '\n"
     ]
    },
    {
     "data": {
      "image/png": "[encoded data removed]",
      "text/plain": [
       "<Figure size 576x504 with 4 Axes>"
      ]
     },
     "metadata": {},
     "output_type": "display_data"
    }
   ],
   "source": [
    "# plot extendido com std\n",
    "\n",
    "df = mean_roll\n",
    "dfstd = std_roll\n",
    "\n",
    "fig, ((ax1, ax2), (ax3, ax4)) = plt.subplots(2, 2, sharex='col', sharey='row', figsize = (8,7))\n",
    "\n",
    "plt.xticks(fontsize = 11)\n",
    "fig.suptitle(r\"$\\langle k \\rangle = 3, \\quad n=6$\", fontsize=14)\n",
    "\n",
    "x1 = 0.573\n",
    "x2 = 0.85\n",
    "\n",
    "c1 = c[3]\n",
    "c2 = c[-3]\n",
    "\n",
    "ax1.scatter(df['Q'],df[\"Average\"], color = c1, label = r'$\\langle S \\rangle$', zorder = 10)\n",
    "ax1.plot(df['Q'],df[\"Average\"], color = c1, label = \"_nolegend_\", zorder = 9)\n",
    "ax1.fill_between(df['Q'], df['Average']-dfstd['Average'], df['Average']+dfstd['Average'], color=c2, alpha=0.15)\n",
    "\n",
    "ax1.scatter(df['Q'],df[\"OP\"], color = c1, label = \"OP\",marker = \"s\", zorder = 10)\n",
    "ax1.plot(df['Q'],df[\"OP\"], color = c1, label = \"_nolegend_\", zorder = 9)\n",
    "ax1.fill_between(df['Q'], df['OP']-dfstd['OP'], df['OP']+dfstd['OP'], color=c2, alpha=0.15, label = \"_nolegend_\")\n",
    "\n",
    "ax1.set_ylabel('S')\n",
    "#ax1.set_xlim(x1,x2)\n",
    "ax1.grid(color='gray', linestyle='-', linewidth=0.5, alpha=0.5)\n",
    "ax1.legend(fancybox=True, framealpha=0.5, loc=3, fontsize = 10)\n",
    "\n",
    "ax2.scatter(df['Q'],df['MBA'], color = c1, label = \"_nolegend_\", zorder = 10)\n",
    "ax2.plot(df['Q'],df['MBA'], color = c1, label = \"_nolegend_\", zorder = 9)\n",
    "ax2.fill_between(df['Q'], df['MBA']-dfstd['MBA'], df['MBA']+dfstd['MBA'], color=c2, alpha=0.15, label = \"_nolegend_\")\n",
    "ax2.set_ylabel('MBA', labelpad = 10)\n",
    "#ax2.set_xlim(x1,x2)\n",
    "ax2.grid(color='gray', linestyle='-', linewidth=0.5, alpha=0.5)\n",
    "\n",
    "ax3.scatter(df['Q'],df['HBA'], color = c1, label = \"_nolegend_\", zorder = 10)\n",
    "ax3.plot(df['Q'],df['HBA'], color = c1, label = \"_nolegend_\", zorder = 9)\n",
    "ax3.fill_between(df['Q'], df['HBA']-dfstd['HBA'], df['HBA']+dfstd['HBA'], color=c2, alpha=0.15, label = \"_nolegend_\")\n",
    "ax3.set_xlabel('Q')\n",
    "ax3.set_ylabel('HBA')\n",
    "#ax3.set_xlim(x1,x2)\n",
    "ax3.grid(color='gray', linestyle='-', linewidth=0.5, alpha=0.5)\n",
    "\n",
    "ax3.tick_params(\"x\", labelsize = 11)\n",
    "ax3.tick_params(\"y\", labelsize = 11)\n",
    "ax1.tick_params(\"y\", labelsize = 11)\n",
    "\n",
    "ax4.scatter(df['Q'],df['CI'], color = c1, label = \"_nolegend_\", zorder = 10)\n",
    "ax4.plot(df['Q'],df['CI'], color = c1, label = \"_nolegend_\", zorder = 9)\n",
    "ax4.fill_between(df['Q'], df['CI']-dfstd['CI'], df['CI']+dfstd['CI'], color=c2, alpha=0.15, label = \"_nolegend_\")\n",
    "ax4.set_xlabel('Q')\n",
    "ax4.set_ylabel('CI', labelpad = 10)\n",
    "#ax4.set_xlim(x1,x2)\n",
    "ax4.grid(color='gray', linestyle='-', linewidth=0.5, alpha=0.5)\n",
    "\n",
    "fig.tight_layout(pad = 70)\n",
    "\n",
    "#fig.savefig('figs_dissertacao/subplots_k3_n6.png', dpi=300,bbox_inches='tight')"
   ]
  },
  {
   "cell_type": "markdown",
   "metadata": {},
   "source": [
    "#### Scaling n = 3, 4, 5, 6"
   ]
  },
  {
   "cell_type": "code",
   "execution_count": 154,
   "metadata": {
    "code_folding": [
     0
    ],
    "collapsed": true
   },
   "outputs": [
    {
     "data": {
      "image/png": "[encoded data removed]",
      "text/plain": [
       "<Figure size 432x288 with 1 Axes>"
      ]
     },
     "metadata": {},
     "output_type": "display_data"
    }
   ],
   "source": [
    "# k = 3, n\n",
    "\n",
    "fig, ax = plt.subplots()\n",
    "\n",
    "c1 = c[3]\n",
    "c2 = c[-3]\n",
    "markers = ['o', '^', 's', 'D', 'v']\n",
    "\n",
    "dfs = [df_03_means.iloc[9:], df_04_means.iloc[9:], df_05_means.iloc[9:], df_06_means]\n",
    "stds = [df_03_std.iloc[-8:], df_04_std.iloc[-8:], df_05_std.iloc[-8:], df_06_std]\n",
    "\n",
    "for i,df in enumerate(dfs):\n",
    "    ax.fill_between(df['Q'], df['OP'] - stds[i]['OP'], df['OP'] + stds[i]['OP'], color=c2, alpha=0.1)\n",
    "    ax.plot(df['Q'], df[\"OP\"], lw = 1, label='_nolegend_')\n",
    "    ax.scatter(df['Q'], df[\"OP\"], s=30, marker = markers[i], label = \"n = \" + str(i+3))\n",
    "\n",
    "ax.set_xlim([0.705, 0.855])\n",
    "ax.set_ylim([0.1, 0.9])\n",
    "\n",
    "ax.set_ylabel('S')\n",
    "ax.set_xlabel('Q')\n",
    "\n",
    "set_other_plot_default_stuff(ax)\n",
    "\n",
    "fig.tight_layout()\n",
    "\n",
    "#plt.savefig('k_3/figs_dissertacao/scaling_100_n.png', dpi = 300, bbox_inches='tight')"
   ]
  },
  {
   "cell_type": "markdown",
   "metadata": {},
   "source": [
    "#### Scaling 80, 100, 120"
   ]
  },
  {
   "cell_type": "code",
   "execution_count": 38,
   "metadata": {
    "code_folding": [
     0
    ],
    "collapsed": true
   },
   "outputs": [
    {
     "data": {
      "image/png": "[encoded data removed]",
      "text/plain": [
       "<Figure size 432x288 with 1 Axes>"
      ]
     },
     "metadata": {},
     "output_type": "display_data"
    }
   ],
   "source": [
    "# Av/OP N\n",
    "\n",
    "fig, ax = plt.subplots()\n",
    "\n",
    "ax.set_xlabel(\"Q\")\n",
    "ax.set_ylabel(r\"$\\langle S \\rangle / S^*$\")\n",
    "\n",
    "c = sns.color_palette()\n",
    "\n",
    "ax.scatter(df_main_080[\"Q\"], df_main_080[\"AV/OP\"], alpha = 0.9, label = \"80\", s=40)\n",
    "ax.scatter(df_main[\"Q\"], df_main[\"AV/OP\"], alpha = 0.5, label = \"100\", s=40, color = \"grey\")\n",
    "ax.scatter(df_main_120[\"Q\"], df_main_120[\"AV/OP\"], alpha = 0.9, label = \"120\", s=40, color=c[3])\n",
    "\n",
    "set_other_plot_default_stuff(ax)\n",
    "\n",
    "ax.legend(fontsize = 11,frameon = True, markerscale = 1.5)\n",
    "\n",
    "#ax.grid(False)\n",
    "\n",
    "fig.savefig('figs_dissertacao/scalingN.png', dpi=300, bbox_inches='tight')"
   ]
  },
  {
   "cell_type": "markdown",
   "metadata": {},
   "source": [
    "#### Regressão linear Av/OP"
   ]
  },
  {
   "cell_type": "code",
   "execution_count": 135,
   "metadata": {},
   "outputs": [
    {
     "name": "stdout",
     "output_type": "stream",
     "text": [
      "1.3484741679835834\n"
     ]
    },
    {
     "data": {
      "text/plain": [
       "0.709"
      ]
     },
     "execution_count": 135,
     "metadata": {},
     "output_type": "execute_result"
    }
   ],
   "source": [
    "crossing(df_main4, 'Q', 'AV/OP', 55, 65)"
   ]
  },
  {
   "cell_type": "code",
   "execution_count": 132,
   "metadata": {
    "code_folding": [
     0
    ]
   },
   "outputs": [
    {
     "data": {
      "text/plain": [
       "0.709"
      ]
     },
     "execution_count": 132,
     "metadata": {},
     "output_type": "execute_result"
    }
   ],
   "source": [
    "# regressao linear\n",
    "\n",
    "x1 = df_main['Q'].iloc[:55]\n",
    "y1 = df_main['AV/OP'].iloc[:55]\n",
    "x2 = df_main['Q'].iloc[55:]\n",
    "y2 = df_main['AV/OP'].iloc[55:]\n",
    "\n",
    "x = df_main['Q'].iloc[:65]\n",
    "\n",
    "r1 = stats.linregress(x1,y1)\n",
    "func1 = r1[0] *x + r1[1]\n",
    "\n",
    "r2 = stats.linregress(x2,y2)\n",
    "func2 = r2[0] *x2 + r2[1]\n",
    "\n",
    "cross = (r2[1] - r1[1])/(r1[0] - r2[0])\n",
    "round(cross,3)"
   ]
  },
  {
   "cell_type": "code",
   "execution_count": 144,
   "metadata": {},
   "outputs": [
    {
     "data": {
      "text/plain": [
       "1.3531877960115097"
      ]
     },
     "execution_count": 144,
     "metadata": {},
     "output_type": "execute_result"
    }
   ],
   "source": [
    "r1[0] *0.712 + r1[1]"
   ]
  },
  {
   "cell_type": "code",
   "execution_count": 34,
   "metadata": {},
   "outputs": [],
   "source": [
    "def crossing(df, x, y, div, xlim):\n",
    "    from scipy.stats import linregress\n",
    "    \n",
    "    x1 = df[x].iloc[:div]\n",
    "    y1 = df[y].iloc[:div]\n",
    "    x2 = df[x].iloc[div:]\n",
    "    y2 = df[y].iloc[div:]\n",
    "\n",
    "    x_func = df[x].iloc[:xlim]\n",
    "\n",
    "    r1 = linregress(x1,y1)\n",
    "    func1 = r1[0] *x_func + r1[1]\n",
    "\n",
    "    r2 = linregress(x2,y2)\n",
    "    func2 = r2[0] *x2 + r2[1]\n",
    "\n",
    "    cross = (r2[1] - r1[1])/(r1[0] - r2[0])\n",
    "    print(df['Q'].iloc[div], r1[0] * round(cross,3) + r1[1])\n",
    "    \n",
    "    return round(cross,3), r1, r2"
   ]
  },
  {
   "cell_type": "code",
   "execution_count": 6,
   "metadata": {
    "code_folding": []
   },
   "outputs": [],
   "source": [
    "# Encontrar Q críticos para cada separacao da modularidade em dois \n",
    "\n",
    "reg1 = pd.DataFrame({}, columns=[\"slope\", \"intercept\", \"r_value\", \"p_value\", \"std_err\"])\n",
    "reg2 = pd.DataFrame({}, columns=[\"slope\", \"intercept\", \"r_value\", \"p_value\", \"std_err\"])    \n",
    "q_critical = []\n",
    "\n",
    "for i in range(2,len(df_main)-1):\n",
    "    x_1 = df_main['Q'][:i]\n",
    "    x_2 = df_main['Q'][i:]\n",
    "    y_1 = df_main['AV/OP'][:i]\n",
    "    y_2 = df_main['AV/OP'][i:]\n",
    "    \n",
    "    r1 = stats.linregress(x_1,y_1)\n",
    "    r2 = stats.linregress(x_2,y_2)\n",
    "    \n",
    "    reg1.loc[len(reg1), :] = list(r1)\n",
    "    reg2.loc[len(reg2), :] = list(r2)\n",
    "    \n",
    "    cross = (r2[1] - r1[1])/(r1[0] - r2[0])\n",
    "    q_critical.append(round(cross,3))\n",
    "\n",
    "reg1[\"r_square\"] = reg1[\"r_value\"]**2\n",
    "reg2[\"r_square\"] = reg2[\"r_value\"]**2"
   ]
  },
  {
   "cell_type": "code",
   "execution_count": 45,
   "metadata": {
    "code_folding": [],
    "scrolled": true
   },
   "outputs": [
    {
     "name": "stdout",
     "output_type": "stream",
     "text": [
      "0.64 1.3319999999999996\n",
      "0.642 1.1699230769230755\n",
      "0.643 1.083735294117646\n",
      "0.6459999999999999 1.0912892561983467\n",
      "0.6459999999999999 1.0736045197740114\n",
      "0.649 1.0675925349922242\n",
      "0.6509999999999999 1.0884314516129034\n",
      "0.6609999999999999 1.065599187542316\n",
      "0.6829999999999999 1.0631097099621694\n",
      "0.684 1.036357619526465\n",
      "0.684 1.0504406335907843\n",
      "0.698 1.0566187995303788\n",
      "0.7 1.0429667309717967\n",
      "0.705 1.0366753247864713\n",
      "0.7070000000000001 1.0480872760915936\n",
      "0.708 1.042937434722208\n",
      "0.711 1.042063204158672\n",
      "0.713 1.0374557480927697\n",
      "0.713 1.0478381165270438\n",
      "0.715 1.0564404057003465\n",
      "0.728 1.0598129749225134\n",
      "0.728 1.0625861131891114\n",
      "0.73 1.0581232629208575\n",
      "0.735 1.0607682653733135\n",
      "0.737 1.0740529261711544\n",
      "0.7440000000000001 1.078840318105743\n",
      "0.745 1.0828314333476337\n",
      "0.75 1.0865385756286388\n",
      "0.754 1.0856491587609087\n",
      "0.758 1.0847799744553028\n",
      "0.7609999999999999 1.090782551906006\n",
      "0.762 1.0996703042243574\n",
      "0.763 1.1110017377953663\n",
      "0.773 1.1203026177483153\n",
      "0.775 1.1193099435079046\n",
      "0.7829999999999999 1.1199220999200739\n",
      "0.784 1.1417112316757325\n",
      "0.787 1.1582344254259875\n",
      "0.79 1.1613176183767107\n",
      "0.795 1.1636980902575909\n",
      "0.804 1.1683215815838546\n",
      "0.81 1.1955312230891129\n",
      "0.8109999999999999 1.2639077146851407\n",
      "0.8140000000000001 1.259550351888612\n",
      "0.8190000000000001 1.2570454533717061\n",
      "0.821 1.3094809806105054\n",
      "0.823 1.3592589908480959\n",
      "0.8340000000000001 1.361156881654905\n",
      "0.835 1.3922598717241494\n",
      "0.8370000000000001 1.434117383309495\n",
      "0.845 1.2449386955821375\n",
      "0.845 -1.4433552270483219\n",
      "0.847 4.002355918375321\n",
      "0.852 3.227995158186795\n",
      "0.8540000000000001 4.683982562415235\n",
      "0.86 2.4589084346620753\n",
      "0.863 2.5314723255826097\n",
      "0.8640000000000001 2.632453215667134\n",
      "0.8640000000000001 2.692118161846289\n",
      "0.8640000000000001 2.756812006512959\n"
     ]
    }
   ],
   "source": [
    "reg1 = pd.DataFrame({}, columns=[\"slope\", \"intercept\", \"r_value\", \"p_value\", \"std_err\"])\n",
    "reg2 = pd.DataFrame({}, columns=[\"slope\", \"intercept\", \"r_value\", \"p_value\", \"std_err\"])    \n",
    "q_critical = []\n",
    "\n",
    "for i in range(2,len(df_main6)-1):\n",
    "    res = crossing(df_main6, 'Q', 'AV/OP', i, 65)\n",
    "    q_critical.append(res[0])\n",
    "    \n",
    "    reg1.loc[len(reg1), :] = list(res[1])\n",
    "    reg2.loc[len(reg2), :] = list(res[2])\n",
    "\n",
    "reg1[\"r_square\"] = reg1[\"r_value\"]**2\n",
    "reg2[\"r_square\"] = reg2[\"r_value\"]**2"
   ]
  },
  {
   "cell_type": "code",
   "execution_count": 55,
   "metadata": {
    "collapsed": true
   },
   "outputs": [
    {
     "data": {
      "text/plain": [
       "49    0.0144225\n",
       "48     0.067009\n",
       "47     0.136495\n",
       "1      0.194354\n",
       "40     0.202437\n",
       "41     0.221723\n",
       "46     0.223323\n",
       "39     0.224861\n",
       "0      0.226535\n",
       "3      0.227578\n",
       "6      0.231794\n",
       "38     0.239549\n",
       "35     0.242119\n",
       "33     0.249053\n",
       "34     0.250194\n",
       "37     0.253551\n",
       "45     0.260051\n",
       "50     0.260309\n",
       "32     0.265319\n",
       "36     0.267646\n",
       "44     0.277481\n",
       "31     0.280756\n",
       "43     0.308643\n",
       "30     0.315139\n",
       "42     0.329612\n",
       "2      0.329639\n",
       "27     0.351133\n",
       "28     0.355538\n",
       "29     0.359769\n",
       "4      0.360584\n",
       "26     0.385475\n",
       "5      0.426092\n",
       "25     0.430808\n",
       "24     0.481243\n",
       "8      0.481765\n",
       "11     0.494137\n",
       "51     0.512943\n",
       "7      0.521735\n",
       "21     0.549786\n",
       "23     0.592409\n",
       "20     0.604725\n",
       "22      0.63821\n",
       "54     0.650352\n",
       "19     0.655906\n",
       "52     0.665181\n",
       "10     0.669826\n",
       "53     0.724598\n",
       "14     0.769482\n",
       "18     0.800237\n",
       "15     0.911964\n",
       "12     0.912529\n",
       "16     0.942989\n",
       "17      1.07229\n",
       "9       1.07691\n",
       "13      1.10823\n",
       "55      1.29775\n",
       "57      1.44901\n",
       "56      1.45576\n",
       "58      1.61155\n",
       "59      1.74847\n",
       "Name: r_value, dtype: object"
      ]
     },
     "execution_count": 55,
     "metadata": {},
     "output_type": "execute_result"
    }
   ],
   "source": [
    "(abs(reg1['r_value'] - reg2['r_value'])).sort_values()"
   ]
  },
  {
   "cell_type": "code",
   "execution_count": 84,
   "metadata": {},
   "outputs": [
    {
     "data": {
      "text/plain": [
       "<matplotlib.collections.PathCollection at 0x7f1954e46390>"
      ]
     },
     "execution_count": 84,
     "metadata": {},
     "output_type": "execute_result"
    },
    {
     "data": {
      "image/png": "[encoded data removed]",
      "text/plain": [
       "<Figure size 432x288 with 1 Axes>"
      ]
     },
     "metadata": {},
     "output_type": "display_data"
    }
   ],
   "source": [
    "plt.scatter(df_main6['Q'].iloc[2:62], abs(reg1['r_value']))\n",
    "reg2rev = list(abs(reg2['r_value']))\n",
    "#reg2rev.reverse()\n",
    "plt.scatter(df_main6['Q'].iloc[2:62], reg2rev)"
   ]
  },
  {
   "cell_type": "code",
   "execution_count": 91,
   "metadata": {},
   "outputs": [
    {
     "data": {
      "text/plain": [
       "0.748474351949667"
      ]
     },
     "execution_count": 91,
     "metadata": {},
     "output_type": "execute_result"
    }
   ],
   "source": [
    "max(abs(reg1['r_value'])[2:])"
   ]
  },
  {
   "cell_type": "code",
   "execution_count": null,
   "metadata": {},
   "outputs": [],
   "source": [
    "plt.scatter(df_main6['Q'], df_main6['AV/OP'])"
   ]
  },
  {
   "cell_type": "code",
   "execution_count": 81,
   "metadata": {},
   "outputs": [
    {
     "ename": "TypeError",
     "evalue": "'NoneType' object is not iterable",
     "output_type": "error",
     "traceback": [
      "\u001b[0;31m---------------------------------------------------------------------------\u001b[0m",
      "\u001b[0;31mTypeError\u001b[0m                                 Traceback (most recent call last)",
      "\u001b[0;32m<ipython-input-81-ab9de813cb07>\u001b[0m in \u001b[0;36m<module>\u001b[0;34m\u001b[0m\n\u001b[0;32m----> 1\u001b[0;31m \u001b[0mlist\u001b[0m\u001b[0;34m(\u001b[0m\u001b[0;34m(\u001b[0m\u001b[0mlist\u001b[0m\u001b[0;34m(\u001b[0m\u001b[0mabs\u001b[0m\u001b[0;34m(\u001b[0m\u001b[0mreg2\u001b[0m\u001b[0;34m[\u001b[0m\u001b[0;34m'r_value'\u001b[0m\u001b[0;34m]\u001b[0m\u001b[0;34m)\u001b[0m\u001b[0;34m)\u001b[0m\u001b[0;34m)\u001b[0m\u001b[0;34m.\u001b[0m\u001b[0mreverse\u001b[0m\u001b[0;34m(\u001b[0m\u001b[0;34m)\u001b[0m\u001b[0;34m)\u001b[0m\u001b[0;34m\u001b[0m\u001b[0;34m\u001b[0m\u001b[0m\n\u001b[0m",
      "\u001b[0;31mTypeError\u001b[0m: 'NoneType' object is not iterable"
     ]
    }
   ],
   "source": [
    "((list(abs(reg2['r_value']))).reverse())"
   ]
  },
  {
   "cell_type": "code",
   "execution_count": 37,
   "metadata": {
    "code_folding": [],
    "collapsed": true
   },
   "outputs": [
    {
     "ename": "NameError",
     "evalue": "name 'df_main' is not defined",
     "output_type": "error",
     "traceback": [
      "\u001b[0;31m---------------------------------------------------------------------------\u001b[0m",
      "\u001b[0;31mNameError\u001b[0m                                 Traceback (most recent call last)",
      "\u001b[0;32m<ipython-input-37-9bc57576227d>\u001b[0m in \u001b[0;36m<module>\u001b[0;34m\u001b[0m\n\u001b[1;32m      3\u001b[0m \u001b[0mn\u001b[0m \u001b[0;34m=\u001b[0m \u001b[0;36m54\u001b[0m \u001b[0;31m#linha do melhor Q crítico\u001b[0m\u001b[0;34m\u001b[0m\u001b[0;34m\u001b[0m\u001b[0m\n\u001b[1;32m      4\u001b[0m \u001b[0;34m\u001b[0m\u001b[0m\n\u001b[0;32m----> 5\u001b[0;31m \u001b[0mx1\u001b[0m \u001b[0;34m=\u001b[0m \u001b[0mdf_main\u001b[0m\u001b[0;34m[\u001b[0m\u001b[0;34m'Q'\u001b[0m\u001b[0;34m]\u001b[0m\u001b[0;34m.\u001b[0m\u001b[0miloc\u001b[0m\u001b[0;34m[\u001b[0m\u001b[0;34m:\u001b[0m\u001b[0;36m70\u001b[0m\u001b[0;34m]\u001b[0m\u001b[0;34m\u001b[0m\u001b[0;34m\u001b[0m\u001b[0m\n\u001b[0m\u001b[1;32m      6\u001b[0m \u001b[0mx2\u001b[0m \u001b[0;34m=\u001b[0m \u001b[0mdf_main\u001b[0m\u001b[0;34m[\u001b[0m\u001b[0;34m'Q'\u001b[0m\u001b[0;34m]\u001b[0m\u001b[0;34m[\u001b[0m\u001b[0;36m50\u001b[0m\u001b[0;34m:\u001b[0m\u001b[0;34m]\u001b[0m\u001b[0;34m\u001b[0m\u001b[0;34m\u001b[0m\u001b[0m\n\u001b[1;32m      7\u001b[0m \u001b[0mreta1\u001b[0m \u001b[0;34m=\u001b[0m \u001b[0mreg1\u001b[0m\u001b[0;34m.\u001b[0m\u001b[0miloc\u001b[0m\u001b[0;34m[\u001b[0m\u001b[0mn\u001b[0m\u001b[0;34m]\u001b[0m\u001b[0;34m[\u001b[0m\u001b[0;36m0\u001b[0m\u001b[0;34m]\u001b[0m\u001b[0;34m*\u001b[0m\u001b[0mx1\u001b[0m \u001b[0;34m+\u001b[0m \u001b[0mreg1\u001b[0m\u001b[0;34m.\u001b[0m\u001b[0miloc\u001b[0m\u001b[0;34m[\u001b[0m\u001b[0mn\u001b[0m\u001b[0;34m]\u001b[0m\u001b[0;34m[\u001b[0m\u001b[0;36m1\u001b[0m\u001b[0;34m]\u001b[0m\u001b[0;34m\u001b[0m\u001b[0;34m\u001b[0m\u001b[0m\n",
      "\u001b[0;31mNameError\u001b[0m: name 'df_main' is not defined"
     ]
    }
   ],
   "source": [
    "# x e y para plotar\n",
    "\n",
    "n = 54 #linha do melhor Q crítico\n",
    "\n",
    "x1 = df_main['Q'].iloc[:70]\n",
    "x2 = df_main['Q'][50:]\n",
    "reta1 = reg1.iloc[n][0]*x1 + reg1.iloc[n][1]\n",
    "reta2 = reg2.iloc[n][0]*x2 + reg2.iloc[n][1]"
   ]
  },
  {
   "cell_type": "code",
   "execution_count": 146,
   "metadata": {
    "code_folding": [
     0
    ],
    "collapsed": true
   },
   "outputs": [
    {
     "name": "stdout",
     "output_type": "stream",
     "text": [
      "0.7480433995250321\n"
     ]
    },
    {
     "data": {
      "text/plain": [
       "0.712"
      ]
     },
     "execution_count": 146,
     "metadata": {},
     "output_type": "execute_result"
    }
   ],
   "source": [
    "# valor crítico de modularidade\n",
    "#print(reg1.r_value[58])\n",
    "#q_critical[58]\n",
    "print(reg1.r_value[52])\n",
    "q_critical[52]"
   ]
  },
  {
   "cell_type": "code",
   "execution_count": 150,
   "metadata": {
    "code_folding": [
     0
    ],
    "scrolled": false
   },
   "outputs": [
    {
     "data": {
      "image/png": "[encoded data removed]",
      "text/plain": [
       "<Figure size 432x288 with 1 Axes>"
      ]
     },
     "metadata": {},
     "output_type": "display_data"
    }
   ],
   "source": [
    "# plot duas retas\n",
    "\n",
    "fig, ax = plt.subplots()\n",
    "\n",
    "ax.set_xlabel(\"Q\")\n",
    "ax.set_ylabel(r\"$\\langle S \\rangle / S^*$\")\n",
    "\n",
    "#ax.scatter(0.724,1.46, c=\"black\", s=35,zorder=10)\n",
    "ax.scatter(0.712,1.39, c=\"black\", s=35,zorder=10)\n",
    "ax.scatter(df_main[\"Q\"], df_main[\"AV/OP\"], alpha = 0.4, s=40, color = c[-3])\n",
    "\n",
    "ax.plot(x1,reta1, lw=2)\n",
    "ax.plot(x2,reta2,c=c[3], lw=2)\n",
    "\n",
    "set_other_plot_default_stuff(ax)\n",
    "\n",
    "ax.get_legend().remove()\n",
    "\n",
    "#fig.savefig('figs_dissertacao/ratio_AV_OP.png', dpi=300, bbox_inches='tight')"
   ]
  },
  {
   "cell_type": "code",
   "execution_count": 51,
   "metadata": {
    "collapsed": true
   },
   "outputs": [
    {
     "ename": "KeyError",
     "evalue": "'CI/OP'",
     "output_type": "error",
     "traceback": [
      "\u001b[0;31m---------------------------------------------------------------------------\u001b[0m",
      "\u001b[0;31mKeyError\u001b[0m                                  Traceback (most recent call last)",
      "\u001b[0;32m~/anaconda2/lib/python3.7/site-packages/pandas/core/indexes/base.py\u001b[0m in \u001b[0;36mget_loc\u001b[0;34m(self, key, method, tolerance)\u001b[0m\n\u001b[1;32m   2656\u001b[0m             \u001b[0;32mtry\u001b[0m\u001b[0;34m:\u001b[0m\u001b[0;34m\u001b[0m\u001b[0;34m\u001b[0m\u001b[0m\n\u001b[0;32m-> 2657\u001b[0;31m                 \u001b[0;32mreturn\u001b[0m \u001b[0mself\u001b[0m\u001b[0;34m.\u001b[0m\u001b[0m_engine\u001b[0m\u001b[0;34m.\u001b[0m\u001b[0mget_loc\u001b[0m\u001b[0;34m(\u001b[0m\u001b[0mkey\u001b[0m\u001b[0;34m)\u001b[0m\u001b[0;34m\u001b[0m\u001b[0;34m\u001b[0m\u001b[0m\n\u001b[0m\u001b[1;32m   2658\u001b[0m             \u001b[0;32mexcept\u001b[0m \u001b[0mKeyError\u001b[0m\u001b[0;34m:\u001b[0m\u001b[0;34m\u001b[0m\u001b[0;34m\u001b[0m\u001b[0m\n",
      "\u001b[0;32mpandas/_libs/index.pyx\u001b[0m in \u001b[0;36mpandas._libs.index.IndexEngine.get_loc\u001b[0;34m()\u001b[0m\n",
      "\u001b[0;32mpandas/_libs/index.pyx\u001b[0m in \u001b[0;36mpandas._libs.index.IndexEngine.get_loc\u001b[0;34m()\u001b[0m\n",
      "\u001b[0;32mpandas/_libs/hashtable_class_helper.pxi\u001b[0m in \u001b[0;36mpandas._libs.hashtable.PyObjectHashTable.get_item\u001b[0;34m()\u001b[0m\n",
      "\u001b[0;32mpandas/_libs/hashtable_class_helper.pxi\u001b[0m in \u001b[0;36mpandas._libs.hashtable.PyObjectHashTable.get_item\u001b[0;34m()\u001b[0m\n",
      "\u001b[0;31mKeyError\u001b[0m: 'CI/OP'",
      "\nDuring handling of the above exception, another exception occurred:\n",
      "\u001b[0;31mKeyError\u001b[0m                                  Traceback (most recent call last)",
      "\u001b[0;32m<ipython-input-51-5bc665b6e1f6>\u001b[0m in \u001b[0;36m<module>\u001b[0;34m\u001b[0m\n\u001b[1;32m      8\u001b[0m \u001b[0;31m#ax.scatter(df_main[\"Q\"][ df_main[\"HBA/OP\"] < 2.0], df_main[\"HBA/OP\"][ df_main[\"HBA/OP\"] < 2.0], alpha = 0.4, s=40)\u001b[0m\u001b[0;34m\u001b[0m\u001b[0;34m\u001b[0m\u001b[0;34m\u001b[0m\u001b[0m\n\u001b[1;32m      9\u001b[0m \u001b[0;31m#ax.scatter(df_main[\"Q\"][ df_main[\"MBA/OP\"] < 2.0], df_main[\"MBA/OP\"][ df_main[\"MBA/OP\"] < 2.0], alpha = 0.4, s=40)\u001b[0m\u001b[0;34m\u001b[0m\u001b[0;34m\u001b[0m\u001b[0;34m\u001b[0m\u001b[0m\n\u001b[0;32m---> 10\u001b[0;31m \u001b[0max\u001b[0m\u001b[0;34m.\u001b[0m\u001b[0mscatter\u001b[0m\u001b[0;34m(\u001b[0m\u001b[0mdf_05_means\u001b[0m\u001b[0;34m[\u001b[0m\u001b[0;34m\"Q\"\u001b[0m\u001b[0;34m]\u001b[0m\u001b[0;34m,\u001b[0m \u001b[0mdf_05_means\u001b[0m\u001b[0;34m[\u001b[0m\u001b[0;34m\"CI/OP\"\u001b[0m\u001b[0;34m]\u001b[0m\u001b[0;34m,\u001b[0m \u001b[0malpha\u001b[0m \u001b[0;34m=\u001b[0m \u001b[0;36m0.4\u001b[0m\u001b[0;34m,\u001b[0m \u001b[0ms\u001b[0m\u001b[0;34m=\u001b[0m\u001b[0;36m40\u001b[0m\u001b[0;34m)\u001b[0m\u001b[0;34m\u001b[0m\u001b[0;34m\u001b[0m\u001b[0m\n\u001b[0m\u001b[1;32m     11\u001b[0m \u001b[0;34m\u001b[0m\u001b[0m\n\u001b[1;32m     12\u001b[0m \u001b[0;34m\u001b[0m\u001b[0m\n",
      "\u001b[0;32m~/anaconda2/lib/python3.7/site-packages/pandas/core/frame.py\u001b[0m in \u001b[0;36m__getitem__\u001b[0;34m(self, key)\u001b[0m\n\u001b[1;32m   2925\u001b[0m             \u001b[0;32mif\u001b[0m \u001b[0mself\u001b[0m\u001b[0;34m.\u001b[0m\u001b[0mcolumns\u001b[0m\u001b[0;34m.\u001b[0m\u001b[0mnlevels\u001b[0m \u001b[0;34m>\u001b[0m \u001b[0;36m1\u001b[0m\u001b[0;34m:\u001b[0m\u001b[0;34m\u001b[0m\u001b[0;34m\u001b[0m\u001b[0m\n\u001b[1;32m   2926\u001b[0m                 \u001b[0;32mreturn\u001b[0m \u001b[0mself\u001b[0m\u001b[0;34m.\u001b[0m\u001b[0m_getitem_multilevel\u001b[0m\u001b[0;34m(\u001b[0m\u001b[0mkey\u001b[0m\u001b[0;34m)\u001b[0m\u001b[0;34m\u001b[0m\u001b[0;34m\u001b[0m\u001b[0m\n\u001b[0;32m-> 2927\u001b[0;31m             \u001b[0mindexer\u001b[0m \u001b[0;34m=\u001b[0m \u001b[0mself\u001b[0m\u001b[0;34m.\u001b[0m\u001b[0mcolumns\u001b[0m\u001b[0;34m.\u001b[0m\u001b[0mget_loc\u001b[0m\u001b[0;34m(\u001b[0m\u001b[0mkey\u001b[0m\u001b[0;34m)\u001b[0m\u001b[0;34m\u001b[0m\u001b[0;34m\u001b[0m\u001b[0m\n\u001b[0m\u001b[1;32m   2928\u001b[0m             \u001b[0;32mif\u001b[0m \u001b[0mis_integer\u001b[0m\u001b[0;34m(\u001b[0m\u001b[0mindexer\u001b[0m\u001b[0;34m)\u001b[0m\u001b[0;34m:\u001b[0m\u001b[0;34m\u001b[0m\u001b[0;34m\u001b[0m\u001b[0m\n\u001b[1;32m   2929\u001b[0m                 \u001b[0mindexer\u001b[0m \u001b[0;34m=\u001b[0m \u001b[0;34m[\u001b[0m\u001b[0mindexer\u001b[0m\u001b[0;34m]\u001b[0m\u001b[0;34m\u001b[0m\u001b[0;34m\u001b[0m\u001b[0m\n",
      "\u001b[0;32m~/anaconda2/lib/python3.7/site-packages/pandas/core/indexes/base.py\u001b[0m in \u001b[0;36mget_loc\u001b[0;34m(self, key, method, tolerance)\u001b[0m\n\u001b[1;32m   2657\u001b[0m                 \u001b[0;32mreturn\u001b[0m \u001b[0mself\u001b[0m\u001b[0;34m.\u001b[0m\u001b[0m_engine\u001b[0m\u001b[0;34m.\u001b[0m\u001b[0mget_loc\u001b[0m\u001b[0;34m(\u001b[0m\u001b[0mkey\u001b[0m\u001b[0;34m)\u001b[0m\u001b[0;34m\u001b[0m\u001b[0;34m\u001b[0m\u001b[0m\n\u001b[1;32m   2658\u001b[0m             \u001b[0;32mexcept\u001b[0m \u001b[0mKeyError\u001b[0m\u001b[0;34m:\u001b[0m\u001b[0;34m\u001b[0m\u001b[0;34m\u001b[0m\u001b[0m\n\u001b[0;32m-> 2659\u001b[0;31m                 \u001b[0;32mreturn\u001b[0m \u001b[0mself\u001b[0m\u001b[0;34m.\u001b[0m\u001b[0m_engine\u001b[0m\u001b[0;34m.\u001b[0m\u001b[0mget_loc\u001b[0m\u001b[0;34m(\u001b[0m\u001b[0mself\u001b[0m\u001b[0;34m.\u001b[0m\u001b[0m_maybe_cast_indexer\u001b[0m\u001b[0;34m(\u001b[0m\u001b[0mkey\u001b[0m\u001b[0;34m)\u001b[0m\u001b[0;34m)\u001b[0m\u001b[0;34m\u001b[0m\u001b[0;34m\u001b[0m\u001b[0m\n\u001b[0m\u001b[1;32m   2660\u001b[0m         \u001b[0mindexer\u001b[0m \u001b[0;34m=\u001b[0m \u001b[0mself\u001b[0m\u001b[0;34m.\u001b[0m\u001b[0mget_indexer\u001b[0m\u001b[0;34m(\u001b[0m\u001b[0;34m[\u001b[0m\u001b[0mkey\u001b[0m\u001b[0;34m]\u001b[0m\u001b[0;34m,\u001b[0m \u001b[0mmethod\u001b[0m\u001b[0;34m=\u001b[0m\u001b[0mmethod\u001b[0m\u001b[0;34m,\u001b[0m \u001b[0mtolerance\u001b[0m\u001b[0;34m=\u001b[0m\u001b[0mtolerance\u001b[0m\u001b[0;34m)\u001b[0m\u001b[0;34m\u001b[0m\u001b[0;34m\u001b[0m\u001b[0m\n\u001b[1;32m   2661\u001b[0m         \u001b[0;32mif\u001b[0m \u001b[0mindexer\u001b[0m\u001b[0;34m.\u001b[0m\u001b[0mndim\u001b[0m \u001b[0;34m>\u001b[0m \u001b[0;36m1\u001b[0m \u001b[0;32mor\u001b[0m \u001b[0mindexer\u001b[0m\u001b[0;34m.\u001b[0m\u001b[0msize\u001b[0m \u001b[0;34m>\u001b[0m \u001b[0;36m1\u001b[0m\u001b[0;34m:\u001b[0m\u001b[0;34m\u001b[0m\u001b[0;34m\u001b[0m\u001b[0m\n",
      "\u001b[0;32mpandas/_libs/index.pyx\u001b[0m in \u001b[0;36mpandas._libs.index.IndexEngine.get_loc\u001b[0;34m()\u001b[0m\n",
      "\u001b[0;32mpandas/_libs/index.pyx\u001b[0m in \u001b[0;36mpandas._libs.index.IndexEngine.get_loc\u001b[0;34m()\u001b[0m\n",
      "\u001b[0;32mpandas/_libs/hashtable_class_helper.pxi\u001b[0m in \u001b[0;36mpandas._libs.hashtable.PyObjectHashTable.get_item\u001b[0;34m()\u001b[0m\n",
      "\u001b[0;32mpandas/_libs/hashtable_class_helper.pxi\u001b[0m in \u001b[0;36mpandas._libs.hashtable.PyObjectHashTable.get_item\u001b[0;34m()\u001b[0m\n",
      "\u001b[0;31mKeyError\u001b[0m: 'CI/OP'"
     ]
    },
    {
     "data": {
      "image/png": "[encoded data removed]",
      "text/plain": [
       "<Figure size 432x288 with 1 Axes>"
      ]
     },
     "metadata": {
      "needs_background": "light"
     },
     "output_type": "display_data"
    }
   ],
   "source": [
    "fig, ax = plt.subplots()\n",
    "\n",
    "ax.set_xlabel(\"Q\")\n",
    "ax.set_ylabel(r\"$\\langle S \\rangle / S^*$\")\n",
    "\n",
    "#ax.scatter(0.724,1.46, c=\"black\", s=35,zorder=10)\n",
    "#ax.scatter(0.712,1.39, c=\"black\", s=35,zorder=10)\n",
    "#ax.scatter(df_main[\"Q\"][ df_main[\"HBA/OP\"] < 2.0], df_main[\"HBA/OP\"][ df_main[\"HBA/OP\"] < 2.0], alpha = 0.4, s=40)\n",
    "#ax.scatter(df_main[\"Q\"][ df_main[\"MBA/OP\"] < 2.0], df_main[\"MBA/OP\"][ df_main[\"MBA/OP\"] < 2.0], alpha = 0.4, s=40)\n",
    "ax.scatter(df_05_means[\"Q\"], df_05_means[\"CI/OP\"], alpha = 0.4, s=40)\n",
    "\n",
    "\n",
    "set_other_plot_default_stuff(ax)\n",
    "\n",
    "ax.get_legend().remove()"
   ]
  },
  {
   "cell_type": "markdown",
   "metadata": {},
   "source": [
    "#### Tentativa fit polinomial"
   ]
  },
  {
   "cell_type": "code",
   "execution_count": 68,
   "metadata": {
    "code_folding": [
     0
    ],
    "collapsed": true
   },
   "outputs": [
    {
     "data": {
      "image/png": "[encoded data removed]",
      "text/plain": [
       "<Figure size 432x288 with 1 Axes>"
      ]
     },
     "metadata": {},
     "output_type": "display_data"
    }
   ],
   "source": [
    "# TENTATIVA SERIO\n",
    "\n",
    "columns = df_main.columns.drop([\"Q\",\"AV/OP\"])\n",
    "for col in columns:\n",
    "    x = np.array(df_main['Q'])\n",
    "    y = np.array(df_main[col])\n",
    "    z = np.polyfit(x, y, 4)\n",
    "    p = np.poly1d(z)\n",
    "    plt.plot(x,p(x), label = col)\n",
    "    x = np.array(df_main_means['Q'])\n",
    "    y = np.array(df_main_means[col])\n",
    "    plt.scatter(x,y,alpha = 0.5)\n",
    "\n",
    "plt.legend()\n",
    "plt.xlabel(\"Q\")\n",
    "plt.ylabel(\"S\")\n",
    "\n",
    "plt.savefig(\"figs_dissertacao/regress_pontos.png\", dpi=300)\n",
    "#plt.savefig(\"figs_dissertacao/regress.png\", dpi=300)"
   ]
  },
  {
   "cell_type": "markdown",
   "metadata": {},
   "source": [
    "### < k >"
   ]
  },
  {
   "cell_type": "code",
   "execution_count": 50,
   "metadata": {
    "code_folding": [
     0
    ],
    "scrolled": true
   },
   "outputs": [
    {
     "data": {
      "image/png": "[encoded data removed]",
      "text/plain": [
       "<Figure size 432x288 with 1 Axes>"
      ]
     },
     "metadata": {},
     "output_type": "display_data"
    }
   ],
   "source": [
    "# testes com < k > \n",
    "\n",
    "fig, ax = plt.subplots()\n",
    "medida = \"OP\"\n",
    "df_main.plot.scatter(\"Q\", medida, ax=ax, c=\"black\",label=\"<k> = 3\")\n",
    "df_main4.plot.scatter(\"Q\", medida,ax=ax, c=\"blue\",label=\"<k> = 4\")\n",
    "df_main6.plot.scatter(\"Q\", medida,ax=ax,c=\"red\",label=\"<k> = 6\")\n",
    "ax.set_xlim([0.55,0.875])\n",
    "set_other_plot_default_stuff(ax)\n",
    "#fig.savefig(\"k_medios_\"+medida+\".png\", dpi=300)"
   ]
  },
  {
   "cell_type": "markdown",
   "metadata": {},
   "source": [
    "#### Cumulative Distribution"
   ]
  },
  {
   "cell_type": "code",
   "execution_count": 28,
   "metadata": {
    "code_folding": [
     0
    ]
   },
   "outputs": [],
   "source": [
    "# todos resultados bruteforce k = 3\n",
    "\n",
    "files_bruteforce_results = sorted(glob.glob(\"k_3/networks/100/mu*/net*/gcn5*\"))\n",
    "bf_df = pd.DataFrame({}, index = range(1,96))\n",
    "\n",
    "cols = sorted(df_main.index)\n",
    "\n",
    "for i,file in enumerate(files_bruteforce_results):\n",
    "    x = np.loadtxt(file, max_rows=95,dtype=int)\n",
    "    bf_df[cols[i]] = x\n",
    "    \n",
    "x=((bf_df.sum(axis=0))-75287520.0)\n",
    "x = x[x!=0].index\n",
    "bf_df = bf_df.transpose()\n",
    "bf_df[95].loc[x] = bf_df[95].loc[x] - 1\n",
    "bf_df = bf_df.transpose()\n",
    "\n",
    "bf_df3 = bf_df\n",
    "bf_df_prob = bf_df.mean(axis=1)/75287520\n",
    "bf_cumulative3 = bf_df_prob.cumsum()\n",
    "\n",
    "##################################################################\n",
    "files_bruteforce_results = sorted(glob.glob(\"k_6/mu*/net*/gcn5*\"))\n",
    "bf_df = pd.DataFrame({}, index = range(1,96))\n",
    "\n",
    "cols = sorted(df_main.index)\n",
    "\n",
    "for i,file in enumerate(files_bruteforce_results):\n",
    "    x = np.loadtxt(file, max_rows=95,dtype=int)\n",
    "    bf_df[cols[i]] = x\n",
    "    \n",
    "bf_df6 = bf_df\n",
    "\n",
    "bf_df_prob = bf_df.mean(axis=1)/75287520\n",
    "bf_cumulative6 = bf_df_prob.cumsum()\n",
    "\n",
    "# #################################################################\n",
    "# files_bruteforce_results = sorted(glob.glob(\"k_4/net*/gcn5*\"))\n",
    "# bf_df = pd.DataFrame({}, index = range(1,96))\n",
    "\n",
    "# cols = sorted(df_main.index)\n",
    "\n",
    "# for i,file in enumerate(files_bruteforce_results):\n",
    "#     x = np.loadtxt(file, max_rows=95,dtype=int)\n",
    "#     bf_df[cols[i]] = x\n",
    "    \n",
    "# bf_df4 = bf_df\n",
    "# bf_df_prob = bf_df.mean(axis=1)/75287520\n",
    "# bf_cumulative4 = bf_df_prob.cumsum()\n",
    "#bf_df=bf_df.transpose()"
   ]
  },
  {
   "cell_type": "code",
   "execution_count": 26,
   "metadata": {
    "code_folding": [
     0
    ]
   },
   "outputs": [],
   "source": [
    "# probabilidades e prob cumulativa\n",
    "\n",
    "#bf_df_mean = bf_df.mean(axis=1).iloc[bf_df.sum(axis=1).to_numpy().nonzero()]\n",
    "bf_df_prob = bf_df.mean(axis=1)/75287520\n",
    "bf_cumulative = bf_df_prob.cumsum()\n",
    "#bf_cumulative = bf_cumulative.iloc[bf_cumulative.to_numpy().nonzero()]"
   ]
  },
  {
   "cell_type": "code",
   "execution_count": 22,
   "metadata": {
    "code_folding": [
     0
    ],
    "scrolled": false
   },
   "outputs": [],
   "source": [
    "# rascunho plot cumulativo\n",
    "def plot_cumulativa(df, name, save=False, col = newblue, xlim=[7,97]):\n",
    "    \n",
    "    fig, ax = plt.subplots(figsize=(5,4))\n",
    "\n",
    "    # k=[\"80\",\"100\",\"120\"]\n",
    "    # for i,df in enumerate([bf_cumulative080,bf_cumulative100,bf_cumulative120]):\n",
    "    #     df.rolling(window=2).mean().plot(logy=True, ax=ax,lw=2, label = \"N = \"+k[i])\n",
    "\n",
    "    df.rolling(window=2).mean().plot(logy=True, ax=ax,lw=2, color = col, alpha=0.7)\n",
    "\n",
    "    ax.set_ylabel(\"Probabilidade Cumulativa\")\n",
    "    ax.set_xlabel(\"S\")\n",
    "\n",
    "    ticks_font()\n",
    "    label_size(ax)\n",
    "    grid(ax)\n",
    "\n",
    "    ax.set_xticks(np.arange(10,100,10))\n",
    "    ax.set_xticklabels(np.arange(10,100,10))\n",
    "\n",
    "    ax.set_xlim(xlim)\n",
    "\n",
    "    fig.tight_layout()\n",
    "    if save:\n",
    "        fig.savefig(name, dpi=600)"
   ]
  },
  {
   "cell_type": "code",
   "execution_count": 32,
   "metadata": {
    "scrolled": true
   },
   "outputs": [
    {
     "data": {
      "image/png": "[encoded data removed]",
      "text/plain": [
       "<Figure size 360x288 with 1 Axes>"
      ]
     },
     "metadata": {},
     "output_type": "display_data"
    }
   ],
   "source": [
    "plot_cumulativa(bf_cumulative3, \"figs_dissertacao/prob_cumul_teste.png\")"
   ]
  },
  {
   "cell_type": "markdown",
   "metadata": {},
   "source": [
    "### Quarter"
   ]
  },
  {
   "cell_type": "code",
   "execution_count": 386,
   "metadata": {},
   "outputs": [],
   "source": [
    "quarter = 75287520*0.25"
   ]
  },
  {
   "cell_type": "code",
   "execution_count": 387,
   "metadata": {},
   "outputs": [
    {
     "name": "stdout",
     "output_type": "stream",
     "text": [
      "87 18158027.050505057 88 20091378.409090914\n"
     ]
    }
   ],
   "source": [
    "for i,n in enumerate(bf_df.mean(axis=1).cumsum()):\n",
    "    if n > quarter:\n",
    "        print(i-1, oldn, i, n)\n",
    "        break\n",
    "    oldn = n"
   ]
  },
  {
   "cell_type": "markdown",
   "metadata": {},
   "source": [
    "## Histogramas"
   ]
  },
  {
   "cell_type": "code",
   "execution_count": 5,
   "metadata": {},
   "outputs": [],
   "source": [
    "def get_OP_Q_from_df(df, network, N):\n",
    "    op = df['OP'].loc[network]\n",
    "    q = df['Q'].loc[network]\n",
    "    return int(op*N), round(q,3)\n",
    "\n",
    "def get_heurs_from_df(df, network, N):\n",
    "    hba = df['HBA'].loc[network]\n",
    "    mba = df['MBA'].loc[network]\n",
    "    ci = df['CI'].loc[network]\n",
    "    average = df['Average'].loc[network]\n",
    "    return int(hba*N), int(mba*N), int(ci*N), int(round(average*N,0))"
   ]
  },
  {
   "cell_type": "code",
   "execution_count": 30,
   "metadata": {},
   "outputs": [
    {
     "name": "stdout",
     "output_type": "stream",
     "text": [
      "29\n",
      "51\n",
      "93\n",
      "106\n"
     ]
    }
   ],
   "source": [
    "for line in get_heurs_from_df(df, names[i],N[i]):\n",
    "    print(line)"
   ]
  },
  {
   "cell_type": "code",
   "execution_count": 51,
   "metadata": {
    "code_folding": [
     0
    ],
    "scrolled": false
   },
   "outputs": [
    {
     "name": "stderr",
     "output_type": "stream",
     "text": [
      "No handles with labels found to put in legend.\n"
     ]
    },
    {
     "data": {
      "image/png": "[encoded data removed]",
      "text/plain": [
       "<Figure size 432x288 with 1 Axes>"
      ]
     },
     "metadata": {},
     "output_type": "display_data"
    }
   ],
   "source": [
    "# numero de redes por modularidade\n",
    "bin_edges = np.arange(0.56, 0.87, 0.02)[1:]\n",
    "y = np.histogram(df_main.Q, bins=bin_edges)[0]\n",
    "x = (bin_edges[1:] + bin_edges[:-1])/2\n",
    "\n",
    "fig, ax = plt.subplots()\n",
    "set_other_plot_default_stuff(ax)\n",
    "sns.barplot(np.round(x,2),y,ax=ax, color=sns.color_palette()[4])\n",
    "#ax.set_xticklabels()\n",
    "ax.tick_params(axis=\"x\", labelsize=10)\n",
    "ax.set_ylabel(\"Redes\")\n",
    "ax.set_xlabel(\"Q\")\n",
    "\n",
    "ax.set_xlim([-0.7,13.7])\n",
    "#ax.set_ylim([0.0,25])\n",
    "ax.get_legend().remove()\n",
    "#fig.savefig(\"k_3/figs_dissertacao/Qhistogram.png\", dpi=300)"
   ]
  },
  {
   "cell_type": "code",
   "execution_count": 10,
   "metadata": {},
   "outputs": [],
   "source": [
    "files_bruteforce_results = sorted(glob.glob(\"k_3/networks/080/net*/gcn4*\"))\n",
    "bf_df = pd.DataFrame({}, index = range(1,77))\n",
    "\n",
    "cols = sorted(df_main_080.index)\n",
    "\n",
    "for i,file in enumerate(files_bruteforce_results):\n",
    "    x = np.loadtxt(file, max_rows=76,dtype=int)\n",
    "    bf_df[cols[i]] = x\n",
    "    \n",
    "bf_df080 = bf_df\n",
    "#bf_df_prob = bf_df.mean(axis=1)/75287520\n",
    "#bf_cumulative4 = bf_df_prob.cumsum()\n",
    "#################################################\n",
    "files_bruteforce_results = sorted(glob.glob(\"k_3/networks/120/net*/gcn6*\"))\n",
    "bf_df = pd.DataFrame({}, index = range(1,115))\n",
    "\n",
    "cols = sorted(df_main_120.index)\n",
    "\n",
    "for i,file in enumerate(files_bruteforce_results):\n",
    "    x = np.loadtxt(file, max_rows=114,dtype=int)\n",
    "    bf_df[cols[i]] = x\n",
    "    \n",
    "bf_df120 = bf_df\n"
   ]
  },
  {
   "cell_type": "code",
   "execution_count": 13,
   "metadata": {},
   "outputs": [],
   "source": [
    "q_075 = [\"net34\", \"mu02/net30\", \"net09\"]\n",
    "q_68 = [\"net20\", \"mu03/net20\",\"net30\"]\n",
    "q_81 = [\"net11\", \"mu07/net33\",\"net26\"]\n"
   ]
  },
  {
   "cell_type": "code",
   "execution_count": 26,
   "metadata": {
    "collapsed": true
   },
   "outputs": [
    {
     "name": "stderr",
     "output_type": "stream",
     "text": [
      "No handles with labels found to put in legend.\n",
      "No handles with labels found to put in legend.\n",
      "No handles with labels found to put in legend.\n"
     ]
    },
    {
     "data": {
      "image/png": "[encoded data removed]",
      "text/plain": [
       "<Figure size 1080x360 with 3 Axes>"
      ]
     },
     "metadata": {},
     "output_type": "display_data"
    }
   ],
   "source": [
    "names = q_81\n",
    "dfs = [(df_main_080, bf_df080), (df_main, bf_df), (df_main_120, bf_df120)]\n",
    "N = [80,100,120]\n",
    "lt = ['--', '-.', ':','-']\n",
    "verde = \"#3d8a63\"\n",
    "\n",
    "fig, ax = plt.subplots(1,3, figsize=(15,5),tight_layout=True, sharey = True)\n",
    "\n",
    "for i, name in enumerate(names):\n",
    "    \n",
    "#     for line in get_heurs_from_df(df_main, names[2],100):\n",
    "#         line = dataHeuristics.iloc[38, col+1]\n",
    "#         ax[i].axvline(z-1, linestyle = lt[col], color='#333333', lw = 2, label = dataHeuristics.columns[col+1])\n",
    "    \n",
    "    op, q = get_OP_Q_from_df(dfs[i][0], name, N[i])\n",
    "    \n",
    "    comb = dfs[i][1].sum()[0]\n",
    "    \n",
    "    dist_data = (dfs[i][1][name][op-1:])/comb\n",
    "    x = list(dist_data.index)\n",
    "\n",
    "    ax[i].bar(x, dist_data, color=verde)\n",
    "    ax[i].set_yscale(\"log\")\n",
    "\n",
    "    start_tick = op - op%10 + 10 \n",
    "    xticks = np.arange(start_tick ,len(dfs[i][1]) + 1, 10, dtype = int)\n",
    "\n",
    "    ax[i].set_xlim([op-1, len(dfs[i][1]) + 1])\n",
    "    ax[i].set_xticks(xticks)\n",
    "    ax[i].set_xticklabels(xticks)\n",
    "    \n",
    "    ax[i].tick_params(labelsize = 14)\n",
    "    set_other_plot_default_stuff(ax[i])\n",
    "    ax[i].set_xlabel(\"S\", fontsize=16)\n",
    "\n",
    "\n",
    "    \n",
    "    ax[i].grid(b = False, axis = \"x\")\n",
    "    ax[i].get_legend().remove()\n",
    "    \n",
    "    ax[i].set_title(\"N = \" + str(N[i]) + \" - Q = \" + str(q), fontsize = 16)\n",
    "    \n",
    "#    ax[i].text(op,10**7, q)\n",
    "#plt.tick_params(labelcolor='none', top=False, bottom=False, left=False, right=False)\n",
    "\n",
    "ax[0].set_ylabel(\"Número de Ataques\", fontsize = 16)\n",
    "plt.minorticks_off()\n",
    "fig.savefig(\"figs_dissertacao/histograma_triplo_N_Qalto.png\", dpi=300)"
   ]
  },
  {
   "cell_type": "markdown",
   "metadata": {},
   "source": [
    "## Ideia:\n",
    "\n",
    "Barplot com quadrantes"
   ]
  },
  {
   "cell_type": "code",
   "execution_count": null,
   "metadata": {},
   "outputs": [],
   "source": []
  },
  {
   "cell_type": "markdown",
   "metadata": {},
   "source": [
    "### Número de sets ótimos"
   ]
  },
  {
   "cell_type": "code",
   "execution_count": 35,
   "metadata": {},
   "outputs": [],
   "source": [
    "sets = np.loadtxt(\"k_3/networks/100/ops_5.dat\", delimiter=' ', dtype = str)\n",
    "sets = sets.T"
   ]
  },
  {
   "cell_type": "code",
   "execution_count": 36,
   "metadata": {},
   "outputs": [],
   "source": [
    "ops = sorted(sets[1].astype(int))"
   ]
  },
  {
   "cell_type": "code",
   "execution_count": 104,
   "metadata": {},
   "outputs": [],
   "source": [
    "df_main_smaller = df_main.sort_values(by = 'names')"
   ]
  },
  {
   "cell_type": "code",
   "execution_count": 37,
   "metadata": {},
   "outputs": [],
   "source": [
    "df_main[\"ops\"] = ops"
   ]
  },
  {
   "cell_type": "code",
   "execution_count": 106,
   "metadata": {},
   "outputs": [],
   "source": [
    "df_main_smaller = df_main_smaller.drop(['mu07/net37', 'mu07/net38', 'mu00/net10','mu07/net39','mu00/net06', 'mu00/net07', 'mu00/net08', 'mu00/net09', 'mu00/net11'])"
   ]
  },
  {
   "cell_type": "code",
   "execution_count": 38,
   "metadata": {},
   "outputs": [],
   "source": [
    "n = 20\n",
    "cut = pd.cut(df_main['Q'],np.arange(0.52,0.87,0.02),retbins=True)\n",
    "#cut = pd.cut(df_main['Q'],n,retbins=True)\n",
    "\n",
    "df_main['cut'] = cut[0]\n",
    "df_main['cut_midpoint'] = df_main['cut'].apply(lambda x: x.mid)"
   ]
  },
  {
   "cell_type": "code",
   "execution_count": 98,
   "metadata": {},
   "outputs": [],
   "source": [
    "df_main_smaller.drop(df_main_smaller.index[:5], inplace=True)\n"
   ]
  },
  {
   "cell_type": "code",
   "execution_count": 258,
   "metadata": {},
   "outputs": [
    {
     "data": {
      "text/plain": [
       "1.0"
      ]
     },
     "execution_count": 258,
     "metadata": {},
     "output_type": "execute_result"
    }
   ],
   "source": [
    "np.median(df_main['ops'][df_main['ops'] <=2])"
   ]
  },
  {
   "cell_type": "code",
   "execution_count": 259,
   "metadata": {},
   "outputs": [],
   "source": [
    "IQR = 3"
   ]
  },
  {
   "cell_type": "code",
   "execution_count": 260,
   "metadata": {},
   "outputs": [
    {
     "data": {
      "text/plain": [
       "13"
      ]
     },
     "execution_count": 260,
     "metadata": {},
     "output_type": "execute_result"
    }
   ],
   "source": [
    "4 + 3*IQR"
   ]
  },
  {
   "cell_type": "markdown",
   "metadata": {},
   "source": [
    "##  Outliers"
   ]
  },
  {
   "cell_type": "code",
   "execution_count": 252,
   "metadata": {
    "scrolled": true
   },
   "outputs": [
    {
     "ename": "KeyError",
     "evalue": "'ops'",
     "output_type": "error",
     "traceback": [
      "\u001b[0;31m---------------------------------------------------------------------------\u001b[0m",
      "\u001b[0;31mKeyError\u001b[0m                                  Traceback (most recent call last)",
      "\u001b[0;32m~/anaconda2/lib/python3.7/site-packages/pandas/core/indexes/base.py\u001b[0m in \u001b[0;36mget_loc\u001b[0;34m(self, key, method, tolerance)\u001b[0m\n\u001b[1;32m   2656\u001b[0m             \u001b[0;32mtry\u001b[0m\u001b[0;34m:\u001b[0m\u001b[0;34m\u001b[0m\u001b[0;34m\u001b[0m\u001b[0m\n\u001b[0;32m-> 2657\u001b[0;31m                 \u001b[0;32mreturn\u001b[0m \u001b[0mself\u001b[0m\u001b[0;34m.\u001b[0m\u001b[0m_engine\u001b[0m\u001b[0;34m.\u001b[0m\u001b[0mget_loc\u001b[0m\u001b[0;34m(\u001b[0m\u001b[0mkey\u001b[0m\u001b[0;34m)\u001b[0m\u001b[0;34m\u001b[0m\u001b[0;34m\u001b[0m\u001b[0m\n\u001b[0m\u001b[1;32m   2658\u001b[0m             \u001b[0;32mexcept\u001b[0m \u001b[0mKeyError\u001b[0m\u001b[0;34m:\u001b[0m\u001b[0;34m\u001b[0m\u001b[0;34m\u001b[0m\u001b[0m\n",
      "\u001b[0;32mpandas/_libs/index.pyx\u001b[0m in \u001b[0;36mpandas._libs.index.IndexEngine.get_loc\u001b[0;34m()\u001b[0m\n",
      "\u001b[0;32mpandas/_libs/index.pyx\u001b[0m in \u001b[0;36mpandas._libs.index.IndexEngine.get_loc\u001b[0;34m()\u001b[0m\n",
      "\u001b[0;32mpandas/_libs/hashtable_class_helper.pxi\u001b[0m in \u001b[0;36mpandas._libs.hashtable.PyObjectHashTable.get_item\u001b[0;34m()\u001b[0m\n",
      "\u001b[0;32mpandas/_libs/hashtable_class_helper.pxi\u001b[0m in \u001b[0;36mpandas._libs.hashtable.PyObjectHashTable.get_item\u001b[0;34m()\u001b[0m\n",
      "\u001b[0;31mKeyError\u001b[0m: 'ops'",
      "\nDuring handling of the above exception, another exception occurred:\n",
      "\u001b[0;31mKeyError\u001b[0m                                  Traceback (most recent call last)",
      "\u001b[0;32m<ipython-input-252-8e5138c6f257>\u001b[0m in \u001b[0;36m<module>\u001b[0;34m\u001b[0m\n\u001b[0;32m----> 1\u001b[0;31m \u001b[0mdf\u001b[0m \u001b[0;34m=\u001b[0m \u001b[0mdf_main\u001b[0m\u001b[0;34m.\u001b[0m\u001b[0mdrop\u001b[0m\u001b[0;34m(\u001b[0m\u001b[0;34m(\u001b[0m\u001b[0;34m(\u001b[0m\u001b[0mdf_main\u001b[0m\u001b[0;34m[\u001b[0m\u001b[0;34m'Q'\u001b[0m\u001b[0;34m]\u001b[0m\u001b[0;34m[\u001b[0m\u001b[0mdf_main\u001b[0m\u001b[0;34m[\u001b[0m\u001b[0;34m'ops'\u001b[0m\u001b[0;34m]\u001b[0m \u001b[0;34m>=\u001b[0m \u001b[0;36m8.5\u001b[0m\u001b[0;34m]\u001b[0m\u001b[0;34m.\u001b[0m\u001b[0msort_values\u001b[0m\u001b[0;34m(\u001b[0m\u001b[0;34m)\u001b[0m\u001b[0;34m)\u001b[0m\u001b[0;34m)\u001b[0m\u001b[0;34m.\u001b[0m\u001b[0mindex\u001b[0m\u001b[0;34m)\u001b[0m\u001b[0;34m\u001b[0m\u001b[0;34m\u001b[0m\u001b[0m\n\u001b[0m",
      "\u001b[0;32m~/anaconda2/lib/python3.7/site-packages/pandas/core/frame.py\u001b[0m in \u001b[0;36m__getitem__\u001b[0;34m(self, key)\u001b[0m\n\u001b[1;32m   2925\u001b[0m             \u001b[0;32mif\u001b[0m \u001b[0mself\u001b[0m\u001b[0;34m.\u001b[0m\u001b[0mcolumns\u001b[0m\u001b[0;34m.\u001b[0m\u001b[0mnlevels\u001b[0m \u001b[0;34m>\u001b[0m \u001b[0;36m1\u001b[0m\u001b[0;34m:\u001b[0m\u001b[0;34m\u001b[0m\u001b[0;34m\u001b[0m\u001b[0m\n\u001b[1;32m   2926\u001b[0m                 \u001b[0;32mreturn\u001b[0m \u001b[0mself\u001b[0m\u001b[0;34m.\u001b[0m\u001b[0m_getitem_multilevel\u001b[0m\u001b[0;34m(\u001b[0m\u001b[0mkey\u001b[0m\u001b[0;34m)\u001b[0m\u001b[0;34m\u001b[0m\u001b[0;34m\u001b[0m\u001b[0m\n\u001b[0;32m-> 2927\u001b[0;31m             \u001b[0mindexer\u001b[0m \u001b[0;34m=\u001b[0m \u001b[0mself\u001b[0m\u001b[0;34m.\u001b[0m\u001b[0mcolumns\u001b[0m\u001b[0;34m.\u001b[0m\u001b[0mget_loc\u001b[0m\u001b[0;34m(\u001b[0m\u001b[0mkey\u001b[0m\u001b[0;34m)\u001b[0m\u001b[0;34m\u001b[0m\u001b[0;34m\u001b[0m\u001b[0m\n\u001b[0m\u001b[1;32m   2928\u001b[0m             \u001b[0;32mif\u001b[0m \u001b[0mis_integer\u001b[0m\u001b[0;34m(\u001b[0m\u001b[0mindexer\u001b[0m\u001b[0;34m)\u001b[0m\u001b[0;34m:\u001b[0m\u001b[0;34m\u001b[0m\u001b[0;34m\u001b[0m\u001b[0m\n\u001b[1;32m   2929\u001b[0m                 \u001b[0mindexer\u001b[0m \u001b[0;34m=\u001b[0m \u001b[0;34m[\u001b[0m\u001b[0mindexer\u001b[0m\u001b[0;34m]\u001b[0m\u001b[0;34m\u001b[0m\u001b[0;34m\u001b[0m\u001b[0m\n",
      "\u001b[0;32m~/anaconda2/lib/python3.7/site-packages/pandas/core/indexes/base.py\u001b[0m in \u001b[0;36mget_loc\u001b[0;34m(self, key, method, tolerance)\u001b[0m\n\u001b[1;32m   2657\u001b[0m                 \u001b[0;32mreturn\u001b[0m \u001b[0mself\u001b[0m\u001b[0;34m.\u001b[0m\u001b[0m_engine\u001b[0m\u001b[0;34m.\u001b[0m\u001b[0mget_loc\u001b[0m\u001b[0;34m(\u001b[0m\u001b[0mkey\u001b[0m\u001b[0;34m)\u001b[0m\u001b[0;34m\u001b[0m\u001b[0;34m\u001b[0m\u001b[0m\n\u001b[1;32m   2658\u001b[0m             \u001b[0;32mexcept\u001b[0m \u001b[0mKeyError\u001b[0m\u001b[0;34m:\u001b[0m\u001b[0;34m\u001b[0m\u001b[0;34m\u001b[0m\u001b[0m\n\u001b[0;32m-> 2659\u001b[0;31m                 \u001b[0;32mreturn\u001b[0m \u001b[0mself\u001b[0m\u001b[0;34m.\u001b[0m\u001b[0m_engine\u001b[0m\u001b[0;34m.\u001b[0m\u001b[0mget_loc\u001b[0m\u001b[0;34m(\u001b[0m\u001b[0mself\u001b[0m\u001b[0;34m.\u001b[0m\u001b[0m_maybe_cast_indexer\u001b[0m\u001b[0;34m(\u001b[0m\u001b[0mkey\u001b[0m\u001b[0;34m)\u001b[0m\u001b[0;34m)\u001b[0m\u001b[0;34m\u001b[0m\u001b[0;34m\u001b[0m\u001b[0m\n\u001b[0m\u001b[1;32m   2660\u001b[0m         \u001b[0mindexer\u001b[0m \u001b[0;34m=\u001b[0m \u001b[0mself\u001b[0m\u001b[0;34m.\u001b[0m\u001b[0mget_indexer\u001b[0m\u001b[0;34m(\u001b[0m\u001b[0;34m[\u001b[0m\u001b[0mkey\u001b[0m\u001b[0;34m]\u001b[0m\u001b[0;34m,\u001b[0m \u001b[0mmethod\u001b[0m\u001b[0;34m=\u001b[0m\u001b[0mmethod\u001b[0m\u001b[0;34m,\u001b[0m \u001b[0mtolerance\u001b[0m\u001b[0;34m=\u001b[0m\u001b[0mtolerance\u001b[0m\u001b[0;34m)\u001b[0m\u001b[0;34m\u001b[0m\u001b[0;34m\u001b[0m\u001b[0m\n\u001b[1;32m   2661\u001b[0m         \u001b[0;32mif\u001b[0m \u001b[0mindexer\u001b[0m\u001b[0;34m.\u001b[0m\u001b[0mndim\u001b[0m \u001b[0;34m>\u001b[0m \u001b[0;36m1\u001b[0m \u001b[0;32mor\u001b[0m \u001b[0mindexer\u001b[0m\u001b[0;34m.\u001b[0m\u001b[0msize\u001b[0m \u001b[0;34m>\u001b[0m \u001b[0;36m1\u001b[0m\u001b[0;34m:\u001b[0m\u001b[0;34m\u001b[0m\u001b[0;34m\u001b[0m\u001b[0m\n",
      "\u001b[0;32mpandas/_libs/index.pyx\u001b[0m in \u001b[0;36mpandas._libs.index.IndexEngine.get_loc\u001b[0;34m()\u001b[0m\n",
      "\u001b[0;32mpandas/_libs/index.pyx\u001b[0m in \u001b[0;36mpandas._libs.index.IndexEngine.get_loc\u001b[0;34m()\u001b[0m\n",
      "\u001b[0;32mpandas/_libs/hashtable_class_helper.pxi\u001b[0m in \u001b[0;36mpandas._libs.hashtable.PyObjectHashTable.get_item\u001b[0;34m()\u001b[0m\n",
      "\u001b[0;32mpandas/_libs/hashtable_class_helper.pxi\u001b[0m in \u001b[0;36mpandas._libs.hashtable.PyObjectHashTable.get_item\u001b[0;34m()\u001b[0m\n",
      "\u001b[0;31mKeyError\u001b[0m: 'ops'"
     ]
    }
   ],
   "source": [
    "df = df_main.drop(((df_main['Q'][df_main['ops'] >= 8.5].sort_values())).index)"
   ]
  },
  {
   "cell_type": "code",
   "execution_count": 167,
   "metadata": {
    "collapsed": true
   },
   "outputs": [
    {
     "data": {
      "text/html": [
       "<div>\n",
       "<style scoped>\n",
       "    .dataframe tbody tr th:only-of-type {\n",
       "        vertical-align: middle;\n",
       "    }\n",
       "\n",
       "    .dataframe tbody tr th {\n",
       "        vertical-align: top;\n",
       "    }\n",
       "\n",
       "    .dataframe thead th {\n",
       "        text-align: right;\n",
       "    }\n",
       "</style>\n",
       "<table border=\"1\" class=\"dataframe\">\n",
       "  <thead>\n",
       "    <tr style=\"text-align: right;\">\n",
       "      <th></th>\n",
       "      <th>Q</th>\n",
       "      <th>ops</th>\n",
       "    </tr>\n",
       "    <tr>\n",
       "      <th>names</th>\n",
       "      <th></th>\n",
       "      <th></th>\n",
       "    </tr>\n",
       "  </thead>\n",
       "  <tbody>\n",
       "    <tr>\n",
       "      <th>mu01/net30</th>\n",
       "      <td>0.810</td>\n",
       "      <td>6</td>\n",
       "    </tr>\n",
       "    <tr>\n",
       "      <th>mu01/net09</th>\n",
       "      <td>0.810</td>\n",
       "      <td>6</td>\n",
       "    </tr>\n",
       "    <tr>\n",
       "      <th>mu01/net06</th>\n",
       "      <td>0.811</td>\n",
       "      <td>6</td>\n",
       "    </tr>\n",
       "    <tr>\n",
       "      <th>mu01/net16</th>\n",
       "      <td>0.812</td>\n",
       "      <td>7</td>\n",
       "    </tr>\n",
       "    <tr>\n",
       "      <th>mu02/net22</th>\n",
       "      <td>0.812</td>\n",
       "      <td>7</td>\n",
       "    </tr>\n",
       "    <tr>\n",
       "      <th>mu07/net33</th>\n",
       "      <td>0.813</td>\n",
       "      <td>8</td>\n",
       "    </tr>\n",
       "    <tr>\n",
       "      <th>mu01/net25</th>\n",
       "      <td>0.814</td>\n",
       "      <td>8</td>\n",
       "    </tr>\n",
       "    <tr>\n",
       "      <th>mu01/net10</th>\n",
       "      <td>0.814</td>\n",
       "      <td>9</td>\n",
       "    </tr>\n",
       "    <tr>\n",
       "      <th>mu01/net26</th>\n",
       "      <td>0.815</td>\n",
       "      <td>10</td>\n",
       "    </tr>\n",
       "    <tr>\n",
       "      <th>mu01/net20</th>\n",
       "      <td>0.816</td>\n",
       "      <td>10</td>\n",
       "    </tr>\n",
       "    <tr>\n",
       "      <th>mu01/net17</th>\n",
       "      <td>0.817</td>\n",
       "      <td>10</td>\n",
       "    </tr>\n",
       "    <tr>\n",
       "      <th>mu01/net02</th>\n",
       "      <td>0.817</td>\n",
       "      <td>10</td>\n",
       "    </tr>\n",
       "    <tr>\n",
       "      <th>mu01/net01</th>\n",
       "      <td>0.818</td>\n",
       "      <td>11</td>\n",
       "    </tr>\n",
       "    <tr>\n",
       "      <th>mu01/net19</th>\n",
       "      <td>0.818</td>\n",
       "      <td>12</td>\n",
       "    </tr>\n",
       "    <tr>\n",
       "      <th>mu01/net08</th>\n",
       "      <td>0.818</td>\n",
       "      <td>12</td>\n",
       "    </tr>\n",
       "    <tr>\n",
       "      <th>mu01/net31</th>\n",
       "      <td>0.819</td>\n",
       "      <td>13</td>\n",
       "    </tr>\n",
       "    <tr>\n",
       "      <th>mu01/net24</th>\n",
       "      <td>0.819</td>\n",
       "      <td>14</td>\n",
       "    </tr>\n",
       "    <tr>\n",
       "      <th>mu07/net03</th>\n",
       "      <td>0.821</td>\n",
       "      <td>15</td>\n",
       "    </tr>\n",
       "    <tr>\n",
       "      <th>mu01/net04</th>\n",
       "      <td>0.823</td>\n",
       "      <td>17</td>\n",
       "    </tr>\n",
       "    <tr>\n",
       "      <th>mu01/net03</th>\n",
       "      <td>0.823</td>\n",
       "      <td>18</td>\n",
       "    </tr>\n",
       "    <tr>\n",
       "      <th>mu07/net35</th>\n",
       "      <td>0.824</td>\n",
       "      <td>20</td>\n",
       "    </tr>\n",
       "    <tr>\n",
       "      <th>mu07/net31</th>\n",
       "      <td>0.824</td>\n",
       "      <td>20</td>\n",
       "    </tr>\n",
       "    <tr>\n",
       "      <th>mu01/net22</th>\n",
       "      <td>0.825</td>\n",
       "      <td>21</td>\n",
       "    </tr>\n",
       "    <tr>\n",
       "      <th>mu07/net34</th>\n",
       "      <td>0.826</td>\n",
       "      <td>21</td>\n",
       "    </tr>\n",
       "    <tr>\n",
       "      <th>mu01/net07</th>\n",
       "      <td>0.826</td>\n",
       "      <td>22</td>\n",
       "    </tr>\n",
       "    <tr>\n",
       "      <th>mu07/net01</th>\n",
       "      <td>0.827</td>\n",
       "      <td>24</td>\n",
       "    </tr>\n",
       "    <tr>\n",
       "      <th>mu07/net38</th>\n",
       "      <td>0.828</td>\n",
       "      <td>24</td>\n",
       "    </tr>\n",
       "    <tr>\n",
       "      <th>mu01/net12</th>\n",
       "      <td>0.829</td>\n",
       "      <td>25</td>\n",
       "    </tr>\n",
       "    <tr>\n",
       "      <th>mu07/net02</th>\n",
       "      <td>0.830</td>\n",
       "      <td>25</td>\n",
       "    </tr>\n",
       "    <tr>\n",
       "      <th>mu07/net06</th>\n",
       "      <td>0.830</td>\n",
       "      <td>30</td>\n",
       "    </tr>\n",
       "    <tr>\n",
       "      <th>mu07/net32</th>\n",
       "      <td>0.830</td>\n",
       "      <td>32</td>\n",
       "    </tr>\n",
       "    <tr>\n",
       "      <th>mu07/net37</th>\n",
       "      <td>0.831</td>\n",
       "      <td>41</td>\n",
       "    </tr>\n",
       "    <tr>\n",
       "      <th>mu00/net06</th>\n",
       "      <td>0.833</td>\n",
       "      <td>47</td>\n",
       "    </tr>\n",
       "    <tr>\n",
       "      <th>mu00/net11</th>\n",
       "      <td>0.835</td>\n",
       "      <td>48</td>\n",
       "    </tr>\n",
       "    <tr>\n",
       "      <th>mu01/net21</th>\n",
       "      <td>0.835</td>\n",
       "      <td>58</td>\n",
       "    </tr>\n",
       "    <tr>\n",
       "      <th>mu00/net07</th>\n",
       "      <td>0.838</td>\n",
       "      <td>58</td>\n",
       "    </tr>\n",
       "    <tr>\n",
       "      <th>mu00/net08</th>\n",
       "      <td>0.839</td>\n",
       "      <td>63</td>\n",
       "    </tr>\n",
       "    <tr>\n",
       "      <th>mu00/net09</th>\n",
       "      <td>0.839</td>\n",
       "      <td>63</td>\n",
       "    </tr>\n",
       "    <tr>\n",
       "      <th>mu00/net10</th>\n",
       "      <td>0.841</td>\n",
       "      <td>67</td>\n",
       "    </tr>\n",
       "    <tr>\n",
       "      <th>mu00/net03</th>\n",
       "      <td>0.846</td>\n",
       "      <td>70</td>\n",
       "    </tr>\n",
       "    <tr>\n",
       "      <th>mu00/net04</th>\n",
       "      <td>0.851</td>\n",
       "      <td>141</td>\n",
       "    </tr>\n",
       "    <tr>\n",
       "      <th>mu00/net02</th>\n",
       "      <td>0.851</td>\n",
       "      <td>220</td>\n",
       "    </tr>\n",
       "    <tr>\n",
       "      <th>mu00/net01</th>\n",
       "      <td>0.852</td>\n",
       "      <td>255</td>\n",
       "    </tr>\n",
       "    <tr>\n",
       "      <th>mu00/net05</th>\n",
       "      <td>0.854</td>\n",
       "      <td>862</td>\n",
       "    </tr>\n",
       "  </tbody>\n",
       "</table>\n",
       "</div>"
      ],
      "text/plain": [
       "                Q  ops\n",
       "names                 \n",
       "mu01/net30  0.810    6\n",
       "mu01/net09  0.810    6\n",
       "mu01/net06  0.811    6\n",
       "mu01/net16  0.812    7\n",
       "mu02/net22  0.812    7\n",
       "mu07/net33  0.813    8\n",
       "mu01/net25  0.814    8\n",
       "mu01/net10  0.814    9\n",
       "mu01/net26  0.815   10\n",
       "mu01/net20  0.816   10\n",
       "mu01/net17  0.817   10\n",
       "mu01/net02  0.817   10\n",
       "mu01/net01  0.818   11\n",
       "mu01/net19  0.818   12\n",
       "mu01/net08  0.818   12\n",
       "mu01/net31  0.819   13\n",
       "mu01/net24  0.819   14\n",
       "mu07/net03  0.821   15\n",
       "mu01/net04  0.823   17\n",
       "mu01/net03  0.823   18\n",
       "mu07/net35  0.824   20\n",
       "mu07/net31  0.824   20\n",
       "mu01/net22  0.825   21\n",
       "mu07/net34  0.826   21\n",
       "mu01/net07  0.826   22\n",
       "mu07/net01  0.827   24\n",
       "mu07/net38  0.828   24\n",
       "mu01/net12  0.829   25\n",
       "mu07/net02  0.830   25\n",
       "mu07/net06  0.830   30\n",
       "mu07/net32  0.830   32\n",
       "mu07/net37  0.831   41\n",
       "mu00/net06  0.833   47\n",
       "mu00/net11  0.835   48\n",
       "mu01/net21  0.835   58\n",
       "mu00/net07  0.838   58\n",
       "mu00/net08  0.839   63\n",
       "mu00/net09  0.839   63\n",
       "mu00/net10  0.841   67\n",
       "mu00/net03  0.846   70\n",
       "mu00/net04  0.851  141\n",
       "mu00/net02  0.851  220\n",
       "mu00/net01  0.852  255\n",
       "mu00/net05  0.854  862"
      ]
     },
     "execution_count": 167,
     "metadata": {},
     "output_type": "execute_result"
    }
   ],
   "source": [
    "((df_main[['Q','ops']][df_main['Q'] >= 0.81]).sort_values(by=\"Q\"))"
   ]
  },
  {
   "cell_type": "code",
   "execution_count": 207,
   "metadata": {
    "scrolled": true
   },
   "outputs": [],
   "source": [
    "df_main['cut_midpoint'] = np.round(df_main['cut_midpoint'],2)"
   ]
  },
  {
   "cell_type": "code",
   "execution_count": 126,
   "metadata": {
    "collapsed": true
   },
   "outputs": [
    {
     "name": "stderr",
     "output_type": "stream",
     "text": [
      "/home/usuario/anaconda2/lib/python3.7/site-packages/ipykernel_launcher.py:1: UserWarning: Boolean Series key will be reindexed to match DataFrame index.\n",
      "  \"\"\"Entry point for launching an IPython kernel.\n"
     ]
    },
    {
     "data": {
      "text/html": [
       "<div>\n",
       "<style scoped>\n",
       "    .dataframe tbody tr th:only-of-type {\n",
       "        vertical-align: middle;\n",
       "    }\n",
       "\n",
       "    .dataframe tbody tr th {\n",
       "        vertical-align: top;\n",
       "    }\n",
       "\n",
       "    .dataframe thead th {\n",
       "        text-align: right;\n",
       "    }\n",
       "</style>\n",
       "<table border=\"1\" class=\"dataframe\">\n",
       "  <thead>\n",
       "    <tr style=\"text-align: right;\">\n",
       "      <th></th>\n",
       "      <th>Q</th>\n",
       "      <th>OP</th>\n",
       "      <th>Average</th>\n",
       "      <th>AV/OP</th>\n",
       "      <th>MBA</th>\n",
       "      <th>HBA</th>\n",
       "      <th>CI</th>\n",
       "      <th>HBA/OP</th>\n",
       "      <th>MBA/OP</th>\n",
       "      <th>CI/OP</th>\n",
       "      <th>cut</th>\n",
       "      <th>cut_midpoint</th>\n",
       "      <th>ops</th>\n",
       "    </tr>\n",
       "    <tr>\n",
       "      <th>names</th>\n",
       "      <th></th>\n",
       "      <th></th>\n",
       "      <th></th>\n",
       "      <th></th>\n",
       "      <th></th>\n",
       "      <th></th>\n",
       "      <th></th>\n",
       "      <th></th>\n",
       "      <th></th>\n",
       "      <th></th>\n",
       "      <th></th>\n",
       "      <th></th>\n",
       "      <th></th>\n",
       "    </tr>\n",
       "  </thead>\n",
       "  <tbody>\n",
       "    <tr>\n",
       "      <th>mu00/net05</th>\n",
       "      <td>0.854</td>\n",
       "      <td>0.18</td>\n",
       "      <td>0.767</td>\n",
       "      <td>4.259</td>\n",
       "      <td>0.24</td>\n",
       "      <td>0.20</td>\n",
       "      <td>0.24</td>\n",
       "      <td>1.111</td>\n",
       "      <td>1.333</td>\n",
       "      <td>1.333</td>\n",
       "      <td>(0.84, 0.86]</td>\n",
       "      <td>0.85</td>\n",
       "      <td>862</td>\n",
       "    </tr>\n",
       "    <tr>\n",
       "      <th>mu00/net01</th>\n",
       "      <td>0.852</td>\n",
       "      <td>0.19</td>\n",
       "      <td>0.705</td>\n",
       "      <td>3.711</td>\n",
       "      <td>0.29</td>\n",
       "      <td>0.19</td>\n",
       "      <td>0.23</td>\n",
       "      <td>1.000</td>\n",
       "      <td>1.526</td>\n",
       "      <td>1.211</td>\n",
       "      <td>(0.84, 0.86]</td>\n",
       "      <td>0.85</td>\n",
       "      <td>255</td>\n",
       "    </tr>\n",
       "    <tr>\n",
       "      <th>mu00/net02</th>\n",
       "      <td>0.851</td>\n",
       "      <td>0.16</td>\n",
       "      <td>0.770</td>\n",
       "      <td>4.815</td>\n",
       "      <td>0.21</td>\n",
       "      <td>0.17</td>\n",
       "      <td>0.21</td>\n",
       "      <td>1.062</td>\n",
       "      <td>1.312</td>\n",
       "      <td>1.312</td>\n",
       "      <td>(0.84, 0.86]</td>\n",
       "      <td>0.85</td>\n",
       "      <td>220</td>\n",
       "    </tr>\n",
       "    <tr>\n",
       "      <th>mu00/net04</th>\n",
       "      <td>0.851</td>\n",
       "      <td>0.16</td>\n",
       "      <td>0.745</td>\n",
       "      <td>4.655</td>\n",
       "      <td>0.21</td>\n",
       "      <td>0.16</td>\n",
       "      <td>0.28</td>\n",
       "      <td>1.000</td>\n",
       "      <td>1.312</td>\n",
       "      <td>1.750</td>\n",
       "      <td>(0.84, 0.86]</td>\n",
       "      <td>0.85</td>\n",
       "      <td>141</td>\n",
       "    </tr>\n",
       "    <tr>\n",
       "      <th>mu00/net03</th>\n",
       "      <td>0.846</td>\n",
       "      <td>0.18</td>\n",
       "      <td>0.807</td>\n",
       "      <td>4.482</td>\n",
       "      <td>0.19</td>\n",
       "      <td>0.18</td>\n",
       "      <td>0.32</td>\n",
       "      <td>1.000</td>\n",
       "      <td>1.056</td>\n",
       "      <td>1.778</td>\n",
       "      <td>(0.84, 0.86]</td>\n",
       "      <td>0.85</td>\n",
       "      <td>70</td>\n",
       "    </tr>\n",
       "    <tr>\n",
       "      <th>mu00/net10</th>\n",
       "      <td>0.841</td>\n",
       "      <td>0.17</td>\n",
       "      <td>0.749</td>\n",
       "      <td>4.406</td>\n",
       "      <td>0.21</td>\n",
       "      <td>0.20</td>\n",
       "      <td>0.21</td>\n",
       "      <td>1.176</td>\n",
       "      <td>1.235</td>\n",
       "      <td>1.235</td>\n",
       "      <td>(0.84, 0.86]</td>\n",
       "      <td>0.85</td>\n",
       "      <td>67</td>\n",
       "    </tr>\n",
       "    <tr>\n",
       "      <th>mu00/net09</th>\n",
       "      <td>0.839</td>\n",
       "      <td>0.19</td>\n",
       "      <td>0.687</td>\n",
       "      <td>3.618</td>\n",
       "      <td>0.25</td>\n",
       "      <td>0.20</td>\n",
       "      <td>0.33</td>\n",
       "      <td>1.053</td>\n",
       "      <td>1.316</td>\n",
       "      <td>1.737</td>\n",
       "      <td>(0.82, 0.84]</td>\n",
       "      <td>0.83</td>\n",
       "      <td>63</td>\n",
       "    </tr>\n",
       "    <tr>\n",
       "      <th>mu00/net08</th>\n",
       "      <td>0.839</td>\n",
       "      <td>0.15</td>\n",
       "      <td>0.690</td>\n",
       "      <td>4.602</td>\n",
       "      <td>0.27</td>\n",
       "      <td>0.19</td>\n",
       "      <td>0.30</td>\n",
       "      <td>1.267</td>\n",
       "      <td>1.800</td>\n",
       "      <td>2.000</td>\n",
       "      <td>(0.82, 0.84]</td>\n",
       "      <td>0.83</td>\n",
       "      <td>63</td>\n",
       "    </tr>\n",
       "    <tr>\n",
       "      <th>mu01/net21</th>\n",
       "      <td>0.835</td>\n",
       "      <td>0.16</td>\n",
       "      <td>0.643</td>\n",
       "      <td>4.017</td>\n",
       "      <td>0.27</td>\n",
       "      <td>0.18</td>\n",
       "      <td>0.22</td>\n",
       "      <td>1.125</td>\n",
       "      <td>1.688</td>\n",
       "      <td>1.375</td>\n",
       "      <td>(0.82, 0.84]</td>\n",
       "      <td>0.83</td>\n",
       "      <td>58</td>\n",
       "    </tr>\n",
       "    <tr>\n",
       "      <th>mu00/net07</th>\n",
       "      <td>0.838</td>\n",
       "      <td>0.17</td>\n",
       "      <td>0.721</td>\n",
       "      <td>4.241</td>\n",
       "      <td>0.22</td>\n",
       "      <td>0.18</td>\n",
       "      <td>0.21</td>\n",
       "      <td>1.059</td>\n",
       "      <td>1.294</td>\n",
       "      <td>1.235</td>\n",
       "      <td>(0.82, 0.84]</td>\n",
       "      <td>0.83</td>\n",
       "      <td>58</td>\n",
       "    </tr>\n",
       "    <tr>\n",
       "      <th>mu00/net11</th>\n",
       "      <td>0.835</td>\n",
       "      <td>0.17</td>\n",
       "      <td>0.722</td>\n",
       "      <td>4.245</td>\n",
       "      <td>0.20</td>\n",
       "      <td>0.18</td>\n",
       "      <td>0.32</td>\n",
       "      <td>1.059</td>\n",
       "      <td>1.176</td>\n",
       "      <td>1.882</td>\n",
       "      <td>(0.82, 0.84]</td>\n",
       "      <td>0.83</td>\n",
       "      <td>48</td>\n",
       "    </tr>\n",
       "    <tr>\n",
       "      <th>mu00/net06</th>\n",
       "      <td>0.833</td>\n",
       "      <td>0.16</td>\n",
       "      <td>0.709</td>\n",
       "      <td>4.432</td>\n",
       "      <td>0.25</td>\n",
       "      <td>0.19</td>\n",
       "      <td>0.34</td>\n",
       "      <td>1.188</td>\n",
       "      <td>1.562</td>\n",
       "      <td>2.125</td>\n",
       "      <td>(0.82, 0.84]</td>\n",
       "      <td>0.83</td>\n",
       "      <td>47</td>\n",
       "    </tr>\n",
       "    <tr>\n",
       "      <th>mu07/net37</th>\n",
       "      <td>0.831</td>\n",
       "      <td>0.18</td>\n",
       "      <td>0.700</td>\n",
       "      <td>3.891</td>\n",
       "      <td>0.24</td>\n",
       "      <td>0.18</td>\n",
       "      <td>0.46</td>\n",
       "      <td>1.000</td>\n",
       "      <td>1.333</td>\n",
       "      <td>2.556</td>\n",
       "      <td>(0.82, 0.84]</td>\n",
       "      <td>0.83</td>\n",
       "      <td>41</td>\n",
       "    </tr>\n",
       "  </tbody>\n",
       "</table>\n",
       "</div>"
      ],
      "text/plain": [
       "                Q    OP  Average  AV/OP   MBA   HBA    CI  HBA/OP  MBA/OP  \\\n",
       "names                                                                       \n",
       "mu00/net05  0.854  0.18    0.767  4.259  0.24  0.20  0.24   1.111   1.333   \n",
       "mu00/net01  0.852  0.19    0.705  3.711  0.29  0.19  0.23   1.000   1.526   \n",
       "mu00/net02  0.851  0.16    0.770  4.815  0.21  0.17  0.21   1.062   1.312   \n",
       "mu00/net04  0.851  0.16    0.745  4.655  0.21  0.16  0.28   1.000   1.312   \n",
       "mu00/net03  0.846  0.18    0.807  4.482  0.19  0.18  0.32   1.000   1.056   \n",
       "mu00/net10  0.841  0.17    0.749  4.406  0.21  0.20  0.21   1.176   1.235   \n",
       "mu00/net09  0.839  0.19    0.687  3.618  0.25  0.20  0.33   1.053   1.316   \n",
       "mu00/net08  0.839  0.15    0.690  4.602  0.27  0.19  0.30   1.267   1.800   \n",
       "mu01/net21  0.835  0.16    0.643  4.017  0.27  0.18  0.22   1.125   1.688   \n",
       "mu00/net07  0.838  0.17    0.721  4.241  0.22  0.18  0.21   1.059   1.294   \n",
       "mu00/net11  0.835  0.17    0.722  4.245  0.20  0.18  0.32   1.059   1.176   \n",
       "mu00/net06  0.833  0.16    0.709  4.432  0.25  0.19  0.34   1.188   1.562   \n",
       "mu07/net37  0.831  0.18    0.700  3.891  0.24  0.18  0.46   1.000   1.333   \n",
       "\n",
       "            CI/OP           cut cut_midpoint  ops  \n",
       "names                                              \n",
       "mu00/net05  1.333  (0.84, 0.86]         0.85  862  \n",
       "mu00/net01  1.211  (0.84, 0.86]         0.85  255  \n",
       "mu00/net02  1.312  (0.84, 0.86]         0.85  220  \n",
       "mu00/net04  1.750  (0.84, 0.86]         0.85  141  \n",
       "mu00/net03  1.778  (0.84, 0.86]         0.85   70  \n",
       "mu00/net10  1.235  (0.84, 0.86]         0.85   67  \n",
       "mu00/net09  1.737  (0.82, 0.84]         0.83   63  \n",
       "mu00/net08  2.000  (0.82, 0.84]         0.83   63  \n",
       "mu01/net21  1.375  (0.82, 0.84]         0.83   58  \n",
       "mu00/net07  1.235  (0.82, 0.84]         0.83   58  \n",
       "mu00/net11  1.882  (0.82, 0.84]         0.83   48  \n",
       "mu00/net06  2.125  (0.82, 0.84]         0.83   47  \n",
       "mu07/net37  2.556  (0.82, 0.84]         0.83   41  "
      ]
     },
     "execution_count": 126,
     "metadata": {},
     "output_type": "execute_result"
    }
   ],
   "source": [
    "df_main.sort_values(by='ops', ascending=False)[df_main['Q']>0.83]"
   ]
  },
  {
   "cell_type": "code",
   "execution_count": 242,
   "metadata": {
    "collapsed": true
   },
   "outputs": [
    {
     "data": {
      "text/html": [
       "<div>\n",
       "<style scoped>\n",
       "    .dataframe tbody tr th:only-of-type {\n",
       "        vertical-align: middle;\n",
       "    }\n",
       "\n",
       "    .dataframe tbody tr th {\n",
       "        vertical-align: top;\n",
       "    }\n",
       "\n",
       "    .dataframe thead th {\n",
       "        text-align: right;\n",
       "    }\n",
       "</style>\n",
       "<table border=\"1\" class=\"dataframe\">\n",
       "  <thead>\n",
       "    <tr style=\"text-align: right;\">\n",
       "      <th></th>\n",
       "      <th>Q</th>\n",
       "      <th>OP</th>\n",
       "      <th>Average</th>\n",
       "      <th>AV/OP</th>\n",
       "      <th>MBA</th>\n",
       "      <th>HBA</th>\n",
       "      <th>CI</th>\n",
       "      <th>HBA/OP</th>\n",
       "      <th>MBA/OP</th>\n",
       "      <th>CI/OP</th>\n",
       "      <th>ops</th>\n",
       "    </tr>\n",
       "    <tr>\n",
       "      <th>cut_midpoint</th>\n",
       "      <th></th>\n",
       "      <th></th>\n",
       "      <th></th>\n",
       "      <th></th>\n",
       "      <th></th>\n",
       "      <th></th>\n",
       "      <th></th>\n",
       "      <th></th>\n",
       "      <th></th>\n",
       "      <th></th>\n",
       "      <th></th>\n",
       "    </tr>\n",
       "  </thead>\n",
       "  <tbody>\n",
       "    <tr>\n",
       "      <th>0.53</th>\n",
       "      <td>NaN</td>\n",
       "      <td>NaN</td>\n",
       "      <td>NaN</td>\n",
       "      <td>NaN</td>\n",
       "      <td>NaN</td>\n",
       "      <td>NaN</td>\n",
       "      <td>NaN</td>\n",
       "      <td>NaN</td>\n",
       "      <td>NaN</td>\n",
       "      <td>NaN</td>\n",
       "      <td>NaN</td>\n",
       "    </tr>\n",
       "    <tr>\n",
       "      <th>0.55</th>\n",
       "      <td>NaN</td>\n",
       "      <td>NaN</td>\n",
       "      <td>NaN</td>\n",
       "      <td>NaN</td>\n",
       "      <td>NaN</td>\n",
       "      <td>NaN</td>\n",
       "      <td>NaN</td>\n",
       "      <td>NaN</td>\n",
       "      <td>NaN</td>\n",
       "      <td>NaN</td>\n",
       "      <td>NaN</td>\n",
       "    </tr>\n",
       "    <tr>\n",
       "      <th>0.57</th>\n",
       "      <td>0.005125</td>\n",
       "      <td>0.008864</td>\n",
       "      <td>0.000707</td>\n",
       "      <td>0.011831</td>\n",
       "      <td>0.005175</td>\n",
       "      <td>0.029970</td>\n",
       "      <td>0.000000</td>\n",
       "      <td>0.034363</td>\n",
       "      <td>0.015606</td>\n",
       "      <td>0.012130</td>\n",
       "      <td>0.000000</td>\n",
       "    </tr>\n",
       "    <tr>\n",
       "      <th>0.59</th>\n",
       "      <td>0.006124</td>\n",
       "      <td>0.019408</td>\n",
       "      <td>0.000408</td>\n",
       "      <td>0.028005</td>\n",
       "      <td>0.024495</td>\n",
       "      <td>0.045607</td>\n",
       "      <td>0.000000</td>\n",
       "      <td>0.050461</td>\n",
       "      <td>0.054026</td>\n",
       "      <td>0.028069</td>\n",
       "      <td>0.000000</td>\n",
       "    </tr>\n",
       "    <tr>\n",
       "      <th>0.61</th>\n",
       "      <td>0.004076</td>\n",
       "      <td>0.018028</td>\n",
       "      <td>0.000707</td>\n",
       "      <td>0.026117</td>\n",
       "      <td>0.019221</td>\n",
       "      <td>0.021667</td>\n",
       "      <td>0.004410</td>\n",
       "      <td>0.031790</td>\n",
       "      <td>0.027899</td>\n",
       "      <td>0.030306</td>\n",
       "      <td>0.000000</td>\n",
       "    </tr>\n",
       "    <tr>\n",
       "      <th>0.63</th>\n",
       "      <td>0.001155</td>\n",
       "      <td>0.005774</td>\n",
       "      <td>0.002517</td>\n",
       "      <td>0.006807</td>\n",
       "      <td>0.020000</td>\n",
       "      <td>0.072111</td>\n",
       "      <td>0.000000</td>\n",
       "      <td>0.098896</td>\n",
       "      <td>0.027025</td>\n",
       "      <td>0.009238</td>\n",
       "      <td>0.000000</td>\n",
       "    </tr>\n",
       "    <tr>\n",
       "      <th>0.65</th>\n",
       "      <td>0.006366</td>\n",
       "      <td>0.030322</td>\n",
       "      <td>0.002000</td>\n",
       "      <td>0.046610</td>\n",
       "      <td>0.024210</td>\n",
       "      <td>0.060208</td>\n",
       "      <td>0.011180</td>\n",
       "      <td>0.076564</td>\n",
       "      <td>0.049606</td>\n",
       "      <td>0.043588</td>\n",
       "      <td>0.000000</td>\n",
       "    </tr>\n",
       "    <tr>\n",
       "      <th>0.67</th>\n",
       "      <td>0.006397</td>\n",
       "      <td>0.059161</td>\n",
       "      <td>0.003416</td>\n",
       "      <td>0.112697</td>\n",
       "      <td>0.041932</td>\n",
       "      <td>0.053151</td>\n",
       "      <td>0.050000</td>\n",
       "      <td>0.186549</td>\n",
       "      <td>0.136375</td>\n",
       "      <td>0.161040</td>\n",
       "      <td>0.000000</td>\n",
       "    </tr>\n",
       "    <tr>\n",
       "      <th>0.69</th>\n",
       "      <td>0.006191</td>\n",
       "      <td>0.049787</td>\n",
       "      <td>0.002640</td>\n",
       "      <td>0.102587</td>\n",
       "      <td>0.031945</td>\n",
       "      <td>0.088369</td>\n",
       "      <td>0.024058</td>\n",
       "      <td>0.152311</td>\n",
       "      <td>0.116027</td>\n",
       "      <td>0.113660</td>\n",
       "      <td>0.000000</td>\n",
       "    </tr>\n",
       "    <tr>\n",
       "      <th>0.71</th>\n",
       "      <td>0.007238</td>\n",
       "      <td>0.088930</td>\n",
       "      <td>0.004961</td>\n",
       "      <td>0.231634</td>\n",
       "      <td>0.114197</td>\n",
       "      <td>0.141455</td>\n",
       "      <td>0.029732</td>\n",
       "      <td>0.155257</td>\n",
       "      <td>0.192824</td>\n",
       "      <td>0.231500</td>\n",
       "      <td>0.000000</td>\n",
       "    </tr>\n",
       "    <tr>\n",
       "      <th>0.73</th>\n",
       "      <td>0.004681</td>\n",
       "      <td>0.136861</td>\n",
       "      <td>0.051946</td>\n",
       "      <td>0.761035</td>\n",
       "      <td>0.095971</td>\n",
       "      <td>0.207768</td>\n",
       "      <td>0.101124</td>\n",
       "      <td>1.206471</td>\n",
       "      <td>1.117498</td>\n",
       "      <td>1.105949</td>\n",
       "      <td>0.235702</td>\n",
       "    </tr>\n",
       "    <tr>\n",
       "      <th>0.75</th>\n",
       "      <td>0.005950</td>\n",
       "      <td>0.097800</td>\n",
       "      <td>0.011018</td>\n",
       "      <td>0.328787</td>\n",
       "      <td>0.112231</td>\n",
       "      <td>0.175260</td>\n",
       "      <td>0.100792</td>\n",
       "      <td>0.264461</td>\n",
       "      <td>0.296217</td>\n",
       "      <td>0.232718</td>\n",
       "      <td>0.000000</td>\n",
       "    </tr>\n",
       "    <tr>\n",
       "      <th>0.77</th>\n",
       "      <td>0.005848</td>\n",
       "      <td>0.128368</td>\n",
       "      <td>0.013490</td>\n",
       "      <td>0.536936</td>\n",
       "      <td>0.186364</td>\n",
       "      <td>0.163950</td>\n",
       "      <td>0.143196</td>\n",
       "      <td>0.254889</td>\n",
       "      <td>0.488570</td>\n",
       "      <td>0.367039</td>\n",
       "      <td>0.250000</td>\n",
       "    </tr>\n",
       "    <tr>\n",
       "      <th>0.79</th>\n",
       "      <td>0.005953</td>\n",
       "      <td>0.050455</td>\n",
       "      <td>0.051126</td>\n",
       "      <td>0.520302</td>\n",
       "      <td>0.223783</td>\n",
       "      <td>0.094788</td>\n",
       "      <td>0.172324</td>\n",
       "      <td>0.253733</td>\n",
       "      <td>0.659735</td>\n",
       "      <td>0.707261</td>\n",
       "      <td>0.597614</td>\n",
       "    </tr>\n",
       "    <tr>\n",
       "      <th>0.81</th>\n",
       "      <td>0.005948</td>\n",
       "      <td>0.030854</td>\n",
       "      <td>0.055630</td>\n",
       "      <td>0.425084</td>\n",
       "      <td>0.176672</td>\n",
       "      <td>0.048527</td>\n",
       "      <td>0.151943</td>\n",
       "      <td>0.135802</td>\n",
       "      <td>0.547761</td>\n",
       "      <td>0.674947</td>\n",
       "      <td>2.838657</td>\n",
       "    </tr>\n",
       "    <tr>\n",
       "      <th>0.83</th>\n",
       "      <td>0.005471</td>\n",
       "      <td>0.018873</td>\n",
       "      <td>0.050529</td>\n",
       "      <td>0.428333</td>\n",
       "      <td>0.069303</td>\n",
       "      <td>0.032499</td>\n",
       "      <td>0.119094</td>\n",
       "      <td>0.123379</td>\n",
       "      <td>0.355006</td>\n",
       "      <td>0.619583</td>\n",
       "      <td>16.411813</td>\n",
       "    </tr>\n",
       "    <tr>\n",
       "      <th>0.85</th>\n",
       "      <td>0.003536</td>\n",
       "      <td>0.007071</td>\n",
       "      <td>0.041012</td>\n",
       "      <td>0.053740</td>\n",
       "      <td>0.014142</td>\n",
       "      <td>0.014142</td>\n",
       "      <td>0.077782</td>\n",
       "      <td>0.124451</td>\n",
       "      <td>0.126572</td>\n",
       "      <td>0.383959</td>\n",
       "      <td>2.121320</td>\n",
       "    </tr>\n",
       "  </tbody>\n",
       "</table>\n",
       "</div>"
      ],
      "text/plain": [
       "                     Q        OP   Average     AV/OP       MBA       HBA  \\\n",
       "cut_midpoint                                                               \n",
       "0.53               NaN       NaN       NaN       NaN       NaN       NaN   \n",
       "0.55               NaN       NaN       NaN       NaN       NaN       NaN   \n",
       "0.57          0.005125  0.008864  0.000707  0.011831  0.005175  0.029970   \n",
       "0.59          0.006124  0.019408  0.000408  0.028005  0.024495  0.045607   \n",
       "0.61          0.004076  0.018028  0.000707  0.026117  0.019221  0.021667   \n",
       "0.63          0.001155  0.005774  0.002517  0.006807  0.020000  0.072111   \n",
       "0.65          0.006366  0.030322  0.002000  0.046610  0.024210  0.060208   \n",
       "0.67          0.006397  0.059161  0.003416  0.112697  0.041932  0.053151   \n",
       "0.69          0.006191  0.049787  0.002640  0.102587  0.031945  0.088369   \n",
       "0.71          0.007238  0.088930  0.004961  0.231634  0.114197  0.141455   \n",
       "0.73          0.004681  0.136861  0.051946  0.761035  0.095971  0.207768   \n",
       "0.75          0.005950  0.097800  0.011018  0.328787  0.112231  0.175260   \n",
       "0.77          0.005848  0.128368  0.013490  0.536936  0.186364  0.163950   \n",
       "0.79          0.005953  0.050455  0.051126  0.520302  0.223783  0.094788   \n",
       "0.81          0.005948  0.030854  0.055630  0.425084  0.176672  0.048527   \n",
       "0.83          0.005471  0.018873  0.050529  0.428333  0.069303  0.032499   \n",
       "0.85          0.003536  0.007071  0.041012  0.053740  0.014142  0.014142   \n",
       "\n",
       "                    CI    HBA/OP    MBA/OP     CI/OP        ops  \n",
       "cut_midpoint                                                     \n",
       "0.53               NaN       NaN       NaN       NaN        NaN  \n",
       "0.55               NaN       NaN       NaN       NaN        NaN  \n",
       "0.57          0.000000  0.034363  0.015606  0.012130   0.000000  \n",
       "0.59          0.000000  0.050461  0.054026  0.028069   0.000000  \n",
       "0.61          0.004410  0.031790  0.027899  0.030306   0.000000  \n",
       "0.63          0.000000  0.098896  0.027025  0.009238   0.000000  \n",
       "0.65          0.011180  0.076564  0.049606  0.043588   0.000000  \n",
       "0.67          0.050000  0.186549  0.136375  0.161040   0.000000  \n",
       "0.69          0.024058  0.152311  0.116027  0.113660   0.000000  \n",
       "0.71          0.029732  0.155257  0.192824  0.231500   0.000000  \n",
       "0.73          0.101124  1.206471  1.117498  1.105949   0.235702  \n",
       "0.75          0.100792  0.264461  0.296217  0.232718   0.000000  \n",
       "0.77          0.143196  0.254889  0.488570  0.367039   0.250000  \n",
       "0.79          0.172324  0.253733  0.659735  0.707261   0.597614  \n",
       "0.81          0.151943  0.135802  0.547761  0.674947   2.838657  \n",
       "0.83          0.119094  0.123379  0.355006  0.619583  16.411813  \n",
       "0.85          0.077782  0.124451  0.126572  0.383959   2.121320  "
      ]
     },
     "execution_count": 242,
     "metadata": {},
     "output_type": "execute_result"
    }
   ],
   "source": [
    "df_main.drop(['mu00/net05', 'mu00/net01', 'mu00/net02', 'mu00/net04']).groupby('cut_midpoint').std()"
   ]
  },
  {
   "cell_type": "code",
   "execution_count": 267,
   "metadata": {
    "code_folding": []
   },
   "outputs": [
    {
     "data": {
      "image/png": "[encoded data removed]",
      "text/plain": [
       "<Figure size 432x288 with 1 Axes>"
      ]
     },
     "metadata": {},
     "output_type": "display_data"
    }
   ],
   "source": [
    "fig, ax = plt.subplots()\n",
    "sns.barplot(x='cut_midpoint', y = 'ops', data = df_main.drop(['mu00/net05', 'mu00/net01', 'mu00/net02', 'mu00/net04']),\n",
    "            color=newblue, saturation=0.5, errwidth=1.8)\n",
    "#df_main.drop(['mu00/net05', 'mu00/net01', 'mu00/net02', 'mu00/net04'])\n",
    "\n",
    "ax.set_xlim([0.5, 16.7])\n",
    "#set_other_plot_default_stuff(ax)\n",
    "#ax.grid()\n",
    "\n",
    "#ax.legend(fontsize = 11,frameon = True, markerscale = 1)\n",
    "ax.set_axisbelow(True)\n",
    "\n",
    "plt.xticks(fontsize = 10)\n",
    "plt.yticks(fontsize = 10)\n",
    "    \n",
    "ax.xaxis.label.set_size(13)\n",
    "ax.yaxis.label.set_size(11.5)\n",
    "\n",
    "xtlabel = sorted(set(np.round(df_main['cut_midpoint'],2)))\n",
    "ax.set_xticklabels(xtlabel,rotation=45 )\n",
    "\n",
    "ax.set_xlabel('Q')\n",
    "ax.set_ylabel('Número de Conjuntos Ótimos')\n",
    "\n",
    "fig.tight_layout()\n",
    "figname = 'figs_dissertacao/sets_otimos_super_strongoutliers.png'\n",
    "fig.savefig(figname, dpi = 600)"
   ]
  },
  {
   "cell_type": "code",
   "execution_count": 264,
   "metadata": {},
   "outputs": [],
   "source": [
    "df = df_main.sort_values(by=\"ops\", ascending=False).drop(df_main.sort_values(by=\"ops\", ascending=False).index[:4])"
   ]
  },
  {
   "cell_type": "markdown",
   "metadata": {},
   "source": [
    "### Heurísticos com OP"
   ]
  },
  {
   "cell_type": "code",
   "execution_count": 270,
   "metadata": {
    "collapsed": true
   },
   "outputs": [
    {
     "data": {
      "text/plain": [
       "names\n",
       "mu00/net01    1.000\n",
       "mu07/net06    1.000\n",
       "mu07/net26    1.000\n",
       "mu02/net42    1.000\n",
       "mu02/net37    1.000\n",
       "mu03/net23    1.000\n",
       "mu07/net38    1.000\n",
       "mu07/net03    1.000\n",
       "mu01/net02    1.000\n",
       "mu02/net40    1.000\n",
       "mu00/net03    1.000\n",
       "mu01/net26    1.000\n",
       "mu07/net15    1.000\n",
       "mu02/net43    1.000\n",
       "mu07/net25    1.000\n",
       "mu01/net14    1.000\n",
       "mu01/net18    1.000\n",
       "mu01/net15    1.000\n",
       "mu07/net05    1.000\n",
       "mu02/net46    1.000\n",
       "mu07/net21    1.000\n",
       "mu00/net04    1.000\n",
       "mu07/net37    1.000\n",
       "mu04/net04    1.012\n",
       "mu02/net09    1.021\n",
       "mu02/net41    1.026\n",
       "mu02/net16    1.031\n",
       "mu07/net16    1.034\n",
       "mu02/net19    1.034\n",
       "mu02/net33    1.036\n",
       "              ...  \n",
       "mu02/net36    1.400\n",
       "mu01/net03    1.400\n",
       "mu01/net22    1.400\n",
       "mu03/net03    1.403\n",
       "mu03/net18    1.418\n",
       "mu03/net02    1.429\n",
       "mu02/net04    1.439\n",
       "mu02/net14    1.462\n",
       "mu04/net13    1.508\n",
       "mu02/net48    1.508\n",
       "mu02/net03    1.524\n",
       "mu02/net29    1.524\n",
       "mu03/net09    1.525\n",
       "mu03/net11    1.525\n",
       "mu03/net13    1.533\n",
       "mu02/net32    1.560\n",
       "mu02/net15    1.578\n",
       "mu01/net05    1.600\n",
       "mu02/net44    1.604\n",
       "mu07/net29    1.673\n",
       "mu07/net28    1.688\n",
       "mu02/net18    1.690\n",
       "mu07/net36    1.697\n",
       "mu02/net47    1.721\n",
       "mu07/net17    1.759\n",
       "mu02/net34    1.815\n",
       "mu02/net08    1.870\n",
       "mu02/net06    1.941\n",
       "mu01/net13    3.393\n",
       "mu01/net11    5.938\n",
       "Name: HBA/OP, Length: 198, dtype: float64"
      ]
     },
     "execution_count": 270,
     "metadata": {},
     "output_type": "execute_result"
    }
   ],
   "source": [
    "df_main['HBA/OP'].sort_values()"
   ]
  },
  {
   "cell_type": "code",
   "execution_count": 39,
   "metadata": {
    "scrolled": true
   },
   "outputs": [],
   "source": [
    "df_main_means = round(df_main.drop(['mu01/net13','mu01/net11']).groupby('cut_midpoint').mean(), 3)\n",
    "df_main_std = round(df_main.drop(['mu01/net13','mu01/net11']).groupby('cut_midpoint').std(), 3)\n",
    "df_main_std.fillna(0, inplace = True)\n",
    "df_main_means['cut'] = df_main_means.index\n",
    "df_main_std['cut'] = df_main_std.index"
   ]
  },
  {
   "cell_type": "code",
   "execution_count": 69,
   "metadata": {},
   "outputs": [],
   "source": [
    "mean_roll = df_main_means.rolling(2).mean().dropna()\n",
    "std_roll=df_main_std.rolling(2).mean().dropna()"
   ]
  },
  {
   "cell_type": "code",
   "execution_count": 151,
   "metadata": {},
   "outputs": [],
   "source": [
    "def varRation(df, groupby, x, y):\n",
    "    \n",
    "    groups = df.groupby(groupby).groups\n",
    "    res = []\n",
    "    for g in groups:\n",
    "        newx = df.loc[groups[g]][x]\n",
    "        newy = df.loc[groups[g]][y]\n",
    "        \n",
    "        var = np.mean(newx**2) * np.mean(newy**(-2)) - (np.mean(newx)/np.mean(newy))**2\n",
    "        std = (( var )**(1/2))\n",
    "        \n",
    "        res.append(std)\n",
    "    \n",
    "    return res"
   ]
  },
  {
   "cell_type": "code",
   "execution_count": 110,
   "metadata": {},
   "outputs": [
    {
     "name": "stdout",
     "output_type": "stream",
     "text": [
      "0.7400000000000002\n",
      "0.7800000000000002\n",
      "0.8000000000000003\n"
     ]
    },
    {
     "data": {
      "text/plain": [
       "<matplotlib.colorbar.Colorbar at 0x7f902f6e8d30>"
      ]
     },
     "execution_count": 110,
     "metadata": {},
     "output_type": "execute_result"
    },
    {
     "data": {
      "image/png": "[encoded data removed]",
      "text/plain": [
       "<Figure size 864x216 with 4 Axes>"
      ]
     },
     "metadata": {},
     "output_type": "display_data"
    }
   ],
   "source": [
    "#fig, ax = plt.subplots(1,3, figsize = (12,3))\n",
    "fig = plt.figure(figsize=(12,3))\n",
    "\n",
    "yn = ['HBA', 'MBA', 'CI']\n",
    "\n",
    "color2 = 'black'\n",
    "# color1 = c[3]\n",
    "color1 = 'lightgrey'\n",
    "\n",
    "for i,y in enumerate(yn):\n",
    "    if i == 0:\n",
    "        ax = fig.add_subplot(1,len(yn),i+1)\n",
    "    else: \n",
    "        ax = fig.add_subplot(1,len(yn),i+1, sharey=ax)\n",
    "    \n",
    "    ax.set_ylabel(y + ' / OP', fontsize = 10)\n",
    "    ax.set_xlabel('Q', fontsize = 11)\n",
    "\n",
    "    std = std_roll[y + '/OP']\n",
    "    y = round(mean_roll[y + '/OP'],3)\n",
    "    \n",
    "    pl = ax.scatter(mean_roll.cut, y, c= mean_roll.n, cmap = cm,zorder=2)\n",
    "    ax.plot(mean_roll.cut, y, color = color1,zorder=1)\n",
    "    ax.fill_between(mean_roll.cut, y-std, y+std, color\n",
    "                    = 'grey', alpha=0.15, label = \"_nolegend_\")\n",
    "    \n",
    "        \n",
    "    for tickx, ticky in zip(ax.xaxis.get_major_ticks(), ax.yaxis.get_major_ticks()):\n",
    "            tickx.label.set_fontsize(11)\n",
    "            ticky.label.set_fontsize(11)\n",
    "    \n",
    "    ax.set_xlim([0.53,0.85])\n",
    "\n",
    "    ax.scatter(float(mean_roll['cut'][(y == max(y))]), max(y), color=color2, zorder=3, s = 30)\n",
    "    print(float(mean_roll['cut'][(y == max(y))]))\n",
    "fig.tight_layout()\n",
    "plt.subplots_adjust(right=0.85)\n",
    "plt.colorbar(pl)\n",
    "#fig.savefig('figs_dissertacao/heurs_op_cmap.png', dpi=600)\n",
    "\n"
   ]
  },
  {
   "cell_type": "code",
   "execution_count": 51,
   "metadata": {},
   "outputs": [],
   "source": [
    "df_main_means['n'] = df_main.groupby('cut_midpoint').count()['Q']"
   ]
  },
  {
   "cell_type": "code",
   "execution_count": 82,
   "metadata": {},
   "outputs": [
    {
     "data": {
      "image/png": "[encoded data removed]",
      "text/plain": [
       "<Figure size 432x288 with 2 Axes>"
      ]
     },
     "metadata": {},
     "output_type": "display_data"
    }
   ],
   "source": [
    "cm = plt.cm.get_cmap('winter')\n",
    "#plt.errorbar(mean_roll.Q, mean_roll['HBA'], xerr=std_roll['Q'], yerr=std_roll['HBA'], linewidth=0, elinewidth=1, zorder=1)\n",
    "plot = plt.scatter(mean_roll.Q, mean_roll['HBA'], c= mean_roll.n, cmap = cm)\n",
    "\n",
    "plt.colorbar(plot)\n",
    "\n",
    "plt.show()"
   ]
  },
  {
   "cell_type": "code",
   "execution_count": 80,
   "metadata": {},
   "outputs": [
    {
     "data": {
      "text/html": [
       "<div>\n",
       "<style scoped>\n",
       "    .dataframe tbody tr th:only-of-type {\n",
       "        vertical-align: middle;\n",
       "    }\n",
       "\n",
       "    .dataframe tbody tr th {\n",
       "        vertical-align: top;\n",
       "    }\n",
       "\n",
       "    .dataframe thead th {\n",
       "        text-align: right;\n",
       "    }\n",
       "</style>\n",
       "<table border=\"1\" class=\"dataframe\">\n",
       "  <thead>\n",
       "    <tr style=\"text-align: right;\">\n",
       "      <th></th>\n",
       "      <th>Q</th>\n",
       "      <th>OP</th>\n",
       "      <th>Average</th>\n",
       "      <th>AV/OP</th>\n",
       "      <th>MBA</th>\n",
       "      <th>HBA</th>\n",
       "      <th>CI</th>\n",
       "      <th>HBA/OP</th>\n",
       "      <th>MBA/OP</th>\n",
       "      <th>CI/OP</th>\n",
       "      <th>ops</th>\n",
       "      <th>cut</th>\n",
       "      <th>n</th>\n",
       "    </tr>\n",
       "    <tr>\n",
       "      <th>cut_midpoint</th>\n",
       "      <th></th>\n",
       "      <th></th>\n",
       "      <th></th>\n",
       "      <th></th>\n",
       "      <th></th>\n",
       "      <th></th>\n",
       "      <th></th>\n",
       "      <th></th>\n",
       "      <th></th>\n",
       "      <th></th>\n",
       "      <th></th>\n",
       "      <th></th>\n",
       "      <th></th>\n",
       "    </tr>\n",
       "  </thead>\n",
       "  <tbody>\n",
       "    <tr>\n",
       "      <th>0.55</th>\n",
       "      <td>0.5355</td>\n",
       "      <td>0.8400</td>\n",
       "      <td>0.9480</td>\n",
       "      <td>1.1295</td>\n",
       "      <td>0.9500</td>\n",
       "      <td>0.9500</td>\n",
       "      <td>0.9450</td>\n",
       "      <td>1.1320</td>\n",
       "      <td>1.1320</td>\n",
       "      <td>1.1260</td>\n",
       "      <td>1.0000</td>\n",
       "      <td>0.54</td>\n",
       "      <td>1.0</td>\n",
       "    </tr>\n",
       "    <tr>\n",
       "      <th>0.57</th>\n",
       "      <td>0.5585</td>\n",
       "      <td>0.8460</td>\n",
       "      <td>0.9480</td>\n",
       "      <td>1.1210</td>\n",
       "      <td>0.9480</td>\n",
       "      <td>0.9395</td>\n",
       "      <td>0.9450</td>\n",
       "      <td>1.1105</td>\n",
       "      <td>1.1210</td>\n",
       "      <td>1.1175</td>\n",
       "      <td>1.0000</td>\n",
       "      <td>0.56</td>\n",
       "      <td>4.5</td>\n",
       "    </tr>\n",
       "    <tr>\n",
       "      <th>0.59</th>\n",
       "      <td>0.5810</td>\n",
       "      <td>0.8220</td>\n",
       "      <td>0.9480</td>\n",
       "      <td>1.1535</td>\n",
       "      <td>0.9380</td>\n",
       "      <td>0.9245</td>\n",
       "      <td>0.9500</td>\n",
       "      <td>1.1250</td>\n",
       "      <td>1.1420</td>\n",
       "      <td>1.1565</td>\n",
       "      <td>1.0000</td>\n",
       "      <td>0.58</td>\n",
       "      <td>7.0</td>\n",
       "    </tr>\n",
       "    <tr>\n",
       "      <th>0.61</th>\n",
       "      <td>0.6005</td>\n",
       "      <td>0.8095</td>\n",
       "      <td>0.9475</td>\n",
       "      <td>1.1715</td>\n",
       "      <td>0.9310</td>\n",
       "      <td>0.9290</td>\n",
       "      <td>0.9490</td>\n",
       "      <td>1.1485</td>\n",
       "      <td>1.1515</td>\n",
       "      <td>1.1735</td>\n",
       "      <td>1.0000</td>\n",
       "      <td>0.60</td>\n",
       "      <td>7.5</td>\n",
       "    </tr>\n",
       "    <tr>\n",
       "      <th>0.63</th>\n",
       "      <td>0.6210</td>\n",
       "      <td>0.8000</td>\n",
       "      <td>0.9460</td>\n",
       "      <td>1.1835</td>\n",
       "      <td>0.9310</td>\n",
       "      <td>0.9140</td>\n",
       "      <td>0.9490</td>\n",
       "      <td>1.1425</td>\n",
       "      <td>1.1640</td>\n",
       "      <td>1.1870</td>\n",
       "      <td>1.0000</td>\n",
       "      <td>0.62</td>\n",
       "      <td>6.0</td>\n",
       "    </tr>\n",
       "    <tr>\n",
       "      <th>0.65</th>\n",
       "      <td>0.6400</td>\n",
       "      <td>0.7855</td>\n",
       "      <td>0.9455</td>\n",
       "      <td>1.2050</td>\n",
       "      <td>0.9345</td>\n",
       "      <td>0.9000</td>\n",
       "      <td>0.9465</td>\n",
       "      <td>1.1465</td>\n",
       "      <td>1.1900</td>\n",
       "      <td>1.2060</td>\n",
       "      <td>1.0000</td>\n",
       "      <td>0.64</td>\n",
       "      <td>6.0</td>\n",
       "    </tr>\n",
       "    <tr>\n",
       "      <th>0.67</th>\n",
       "      <td>0.6590</td>\n",
       "      <td>0.7465</td>\n",
       "      <td>0.9435</td>\n",
       "      <td>1.2710</td>\n",
       "      <td>0.9135</td>\n",
       "      <td>0.8910</td>\n",
       "      <td>0.9340</td>\n",
       "      <td>1.2015</td>\n",
       "      <td>1.2285</td>\n",
       "      <td>1.2585</td>\n",
       "      <td>1.0000</td>\n",
       "      <td>0.66</td>\n",
       "      <td>6.5</td>\n",
       "    </tr>\n",
       "    <tr>\n",
       "      <th>0.69</th>\n",
       "      <td>0.6800</td>\n",
       "      <td>0.7110</td>\n",
       "      <td>0.9415</td>\n",
       "      <td>1.3315</td>\n",
       "      <td>0.9025</td>\n",
       "      <td>0.8635</td>\n",
       "      <td>0.9235</td>\n",
       "      <td>1.2235</td>\n",
       "      <td>1.2770</td>\n",
       "      <td>1.3070</td>\n",
       "      <td>1.0000</td>\n",
       "      <td>0.68</td>\n",
       "      <td>8.0</td>\n",
       "    </tr>\n",
       "    <tr>\n",
       "      <th>0.71</th>\n",
       "      <td>0.7010</td>\n",
       "      <td>0.6715</td>\n",
       "      <td>0.9405</td>\n",
       "      <td>1.4240</td>\n",
       "      <td>0.8930</td>\n",
       "      <td>0.8210</td>\n",
       "      <td>0.9230</td>\n",
       "      <td>1.2270</td>\n",
       "      <td>1.3425</td>\n",
       "      <td>1.3970</td>\n",
       "      <td>1.0000</td>\n",
       "      <td>0.70</td>\n",
       "      <td>15.0</td>\n",
       "    </tr>\n",
       "    <tr>\n",
       "      <th>0.73</th>\n",
       "      <td>0.7200</td>\n",
       "      <td>0.5875</td>\n",
       "      <td>0.9365</td>\n",
       "      <td>1.6455</td>\n",
       "      <td>0.8485</td>\n",
       "      <td>0.7365</td>\n",
       "      <td>0.8895</td>\n",
       "      <td>1.2465</td>\n",
       "      <td>1.4715</td>\n",
       "      <td>1.5485</td>\n",
       "      <td>1.0310</td>\n",
       "      <td>0.72</td>\n",
       "      <td>18.0</td>\n",
       "    </tr>\n",
       "    <tr>\n",
       "      <th>0.75</th>\n",
       "      <td>0.7405</td>\n",
       "      <td>0.5175</td>\n",
       "      <td>0.9315</td>\n",
       "      <td>1.8570</td>\n",
       "      <td>0.8310</td>\n",
       "      <td>0.6705</td>\n",
       "      <td>0.8580</td>\n",
       "      <td>1.2865</td>\n",
       "      <td>1.6405</td>\n",
       "      <td>1.6900</td>\n",
       "      <td>1.5310</td>\n",
       "      <td>0.74</td>\n",
       "      <td>19.5</td>\n",
       "    </tr>\n",
       "    <tr>\n",
       "      <th>0.77</th>\n",
       "      <td>0.7600</td>\n",
       "      <td>0.4525</td>\n",
       "      <td>0.9260</td>\n",
       "      <td>2.1685</td>\n",
       "      <td>0.7800</td>\n",
       "      <td>0.5795</td>\n",
       "      <td>0.8400</td>\n",
       "      <td>1.2815</td>\n",
       "      <td>1.7790</td>\n",
       "      <td>1.9195</td>\n",
       "      <td>2.0310</td>\n",
       "      <td>0.76</td>\n",
       "      <td>18.5</td>\n",
       "    </tr>\n",
       "    <tr>\n",
       "      <th>0.79</th>\n",
       "      <td>0.7790</td>\n",
       "      <td>0.3425</td>\n",
       "      <td>0.8980</td>\n",
       "      <td>2.8295</td>\n",
       "      <td>0.6420</td>\n",
       "      <td>0.4220</td>\n",
       "      <td>0.7165</td>\n",
       "      <td>1.2380</td>\n",
       "      <td>1.9190</td>\n",
       "      <td>2.1780</td>\n",
       "      <td>2.8165</td>\n",
       "      <td>0.78</td>\n",
       "      <td>18.5</td>\n",
       "    </tr>\n",
       "    <tr>\n",
       "      <th>0.81</th>\n",
       "      <td>0.8010</td>\n",
       "      <td>0.2530</td>\n",
       "      <td>0.8530</td>\n",
       "      <td>3.4575</td>\n",
       "      <td>0.4805</td>\n",
       "      <td>0.3030</td>\n",
       "      <td>0.5445</td>\n",
       "      <td>1.1935</td>\n",
       "      <td>1.8520</td>\n",
       "      <td>2.1805</td>\n",
       "      <td>5.8690</td>\n",
       "      <td>0.80</td>\n",
       "      <td>22.5</td>\n",
       "    </tr>\n",
       "    <tr>\n",
       "      <th>0.83</th>\n",
       "      <td>0.8205</td>\n",
       "      <td>0.2060</td>\n",
       "      <td>0.7785</td>\n",
       "      <td>3.8365</td>\n",
       "      <td>0.3420</td>\n",
       "      <td>0.2370</td>\n",
       "      <td>0.4140</td>\n",
       "      <td>1.1495</td>\n",
       "      <td>1.6265</td>\n",
       "      <td>2.0080</td>\n",
       "      <td>20.5595</td>\n",
       "      <td>0.82</td>\n",
       "      <td>22.5</td>\n",
       "    </tr>\n",
       "    <tr>\n",
       "      <th>0.85</th>\n",
       "      <td>0.8390</td>\n",
       "      <td>0.1775</td>\n",
       "      <td>0.7405</td>\n",
       "      <td>4.2000</td>\n",
       "      <td>0.2530</td>\n",
       "      <td>0.1955</td>\n",
       "      <td>0.3005</td>\n",
       "      <td>1.1010</td>\n",
       "      <td>1.4215</td>\n",
       "      <td>1.6870</td>\n",
       "      <td>151.0595</td>\n",
       "      <td>0.84</td>\n",
       "      <td>13.5</td>\n",
       "    </tr>\n",
       "  </tbody>\n",
       "</table>\n",
       "</div>"
      ],
      "text/plain": [
       "                   Q      OP  Average   AV/OP     MBA     HBA      CI  HBA/OP  \\\n",
       "cut_midpoint                                                                    \n",
       "0.55          0.5355  0.8400   0.9480  1.1295  0.9500  0.9500  0.9450  1.1320   \n",
       "0.57          0.5585  0.8460   0.9480  1.1210  0.9480  0.9395  0.9450  1.1105   \n",
       "0.59          0.5810  0.8220   0.9480  1.1535  0.9380  0.9245  0.9500  1.1250   \n",
       "0.61          0.6005  0.8095   0.9475  1.1715  0.9310  0.9290  0.9490  1.1485   \n",
       "0.63          0.6210  0.8000   0.9460  1.1835  0.9310  0.9140  0.9490  1.1425   \n",
       "0.65          0.6400  0.7855   0.9455  1.2050  0.9345  0.9000  0.9465  1.1465   \n",
       "0.67          0.6590  0.7465   0.9435  1.2710  0.9135  0.8910  0.9340  1.2015   \n",
       "0.69          0.6800  0.7110   0.9415  1.3315  0.9025  0.8635  0.9235  1.2235   \n",
       "0.71          0.7010  0.6715   0.9405  1.4240  0.8930  0.8210  0.9230  1.2270   \n",
       "0.73          0.7200  0.5875   0.9365  1.6455  0.8485  0.7365  0.8895  1.2465   \n",
       "0.75          0.7405  0.5175   0.9315  1.8570  0.8310  0.6705  0.8580  1.2865   \n",
       "0.77          0.7600  0.4525   0.9260  2.1685  0.7800  0.5795  0.8400  1.2815   \n",
       "0.79          0.7790  0.3425   0.8980  2.8295  0.6420  0.4220  0.7165  1.2380   \n",
       "0.81          0.8010  0.2530   0.8530  3.4575  0.4805  0.3030  0.5445  1.1935   \n",
       "0.83          0.8205  0.2060   0.7785  3.8365  0.3420  0.2370  0.4140  1.1495   \n",
       "0.85          0.8390  0.1775   0.7405  4.2000  0.2530  0.1955  0.3005  1.1010   \n",
       "\n",
       "              MBA/OP   CI/OP       ops   cut     n  \n",
       "cut_midpoint                                        \n",
       "0.55          1.1320  1.1260    1.0000  0.54   1.0  \n",
       "0.57          1.1210  1.1175    1.0000  0.56   4.5  \n",
       "0.59          1.1420  1.1565    1.0000  0.58   7.0  \n",
       "0.61          1.1515  1.1735    1.0000  0.60   7.5  \n",
       "0.63          1.1640  1.1870    1.0000  0.62   6.0  \n",
       "0.65          1.1900  1.2060    1.0000  0.64   6.0  \n",
       "0.67          1.2285  1.2585    1.0000  0.66   6.5  \n",
       "0.69          1.2770  1.3070    1.0000  0.68   8.0  \n",
       "0.71          1.3425  1.3970    1.0000  0.70  15.0  \n",
       "0.73          1.4715  1.5485    1.0310  0.72  18.0  \n",
       "0.75          1.6405  1.6900    1.5310  0.74  19.5  \n",
       "0.77          1.7790  1.9195    2.0310  0.76  18.5  \n",
       "0.79          1.9190  2.1780    2.8165  0.78  18.5  \n",
       "0.81          1.8520  2.1805    5.8690  0.80  22.5  \n",
       "0.83          1.6265  2.0080   20.5595  0.82  22.5  \n",
       "0.85          1.4215  1.6870  151.0595  0.84  13.5  "
      ]
     },
     "execution_count": 80,
     "metadata": {},
     "output_type": "execute_result"
    }
   ],
   "source": [
    "mean_roll"
   ]
  },
  {
   "cell_type": "code",
   "execution_count": null,
   "metadata": {},
   "outputs": [],
   "source": []
  }
 ],
 "metadata": {
  "kernelspec": {
   "display_name": "Python 3",
   "language": "python",
   "name": "python3"
  },
  "language_info": {
   "codemirror_mode": {
    "name": "ipython",
    "version": 3
   },
   "file_extension": ".py",
   "mimetype": "text/x-python",
   "name": "python",
   "nbconvert_exporter": "python",
   "pygments_lexer": "ipython3",
   "version": "3.7.3"
  },
  "varInspector": {
   "cols": {
    "lenName": 16,
    "lenType": 16,
    "lenVar": 40
   },
   "kernels_config": {
    "python": {
     "delete_cmd_postfix": "",
     "delete_cmd_prefix": "del ",
     "library": "var_list.py",
     "varRefreshCmd": "print(var_dic_list())"
    },
    "r": {
     "delete_cmd_postfix": ") ",
     "delete_cmd_prefix": "rm(",
     "library": "var_list.r",
     "varRefreshCmd": "cat(var_dic_list()) "
    }
   },
   "oldHeight": 122.85,
   "position": {
    "height": "40px",
    "left": "997px",
    "right": "20px",
    "top": "120px",
    "width": "350px"
   },
   "types_to_exclude": [
    "module",
    "function",
    "builtin_function_or_method",
    "instance",
    "_Feature"
   ],
   "varInspector_section_display": "none",
   "window_display": false
  }
 },
 "nbformat": 4,
 "nbformat_minor": 2
}
